{
 "cells": [
  {
   "cell_type": "markdown",
   "metadata": {},
   "source": [
    "<a id=\"top\"></a>\n",
    "\n",
    "# Models\n",
    "\n",
    "---\n",
    "\n",
    "This notebook is for the modeling and interpretation of the data, in the interest of accurately classifying the differences between the DnDNext and Pathfinder_RPG subreddits. This would be accomplished with bar of words natural language processing using count vectorizers and a selection of classification models. The largest issue when modeling this data was the exceptionally high variance. This was addressed initially with hyperparameter tuning, then by adding to the stop words by examining the count vectors.\n",
    "\n",
    "#### This Notebook\n",
    "\n",
    "- [Subtracting Vecorizers](#vec)\n",
    "- [Model Comparisons](#comp)\n",
    "- [Further Vector Observations](#vec2)\n",
    "- [Interpretations](#interp)\n",
    "- [Final Testing](#fin)\n",
    "\n",
    "#### Other Notebooks\n",
    "- [Data Gathering](gathering.ipynb)\n",
    "- [Data Cleaning and EDA](cleaning_and_EDA.ipynb)"
   ]
  },
  {
   "cell_type": "markdown",
   "metadata": {},
   "source": [
    "### Importing\n",
    "---"
   ]
  },
  {
   "cell_type": "code",
   "execution_count": 687,
   "metadata": {},
   "outputs": [],
   "source": [
    "import pandas as pd\n",
    "import numpy as np\n",
    "import regex as re\n",
    "import matplotlib.pyplot as plt\n",
    "\n",
    "from sklearn import svm\n",
    "from sklearn.model_selection import train_test_split, cross_val_score, GridSearchCV\n",
    "from sklearn.linear_model import LogisticRegression\n",
    "from sklearn.naive_bayes import MultinomialNB\n",
    "from sklearn.ensemble import RandomForestClassifier, ExtraTreesClassifier\n",
    "from sklearn.feature_extraction.text import CountVectorizer, TfidfVectorizer\n",
    "from sklearn.metrics import confusion_matrix\n",
    "from sklearn.pipeline import Pipeline\n",
    "from nltk.corpus import stopwords\n",
    "from nltk.stem import WordNetLemmatizer\n",
    "from nltk.stem.porter import PorterStemmer"
   ]
  },
  {
   "cell_type": "code",
   "execution_count": 471,
   "metadata": {},
   "outputs": [],
   "source": [
    "# `final` is the dataframe that contains both the testing\n",
    "# and training data from DnDNext and Pathfinder_RPG. `alt`\n",
    "# contains data from DnDBehindTheScreen and Pathfinder,\n",
    "# making the data similar but coming from a different source.\n",
    "\n",
    "final = pd.read_csv(\"../data/final.csv\")\n",
    "alt = pd.read_csv(\"../data/alt.csv\")"
   ]
  },
  {
   "cell_type": "code",
   "execution_count": 188,
   "metadata": {},
   "outputs": [
    {
     "data": {
      "text/html": [
       "<div>\n",
       "<style scoped>\n",
       "    .dataframe tbody tr th:only-of-type {\n",
       "        vertical-align: middle;\n",
       "    }\n",
       "\n",
       "    .dataframe tbody tr th {\n",
       "        vertical-align: top;\n",
       "    }\n",
       "\n",
       "    .dataframe thead th {\n",
       "        text-align: right;\n",
       "    }\n",
       "</style>\n",
       "<table border=\"1\" class=\"dataframe\">\n",
       "  <thead>\n",
       "    <tr style=\"text-align: right;\">\n",
       "      <th></th>\n",
       "      <th>has_unique_domain</th>\n",
       "      <th>has_media</th>\n",
       "      <th>num_comments</th>\n",
       "      <th>score</th>\n",
       "      <th>selftext</th>\n",
       "      <th>subreddit</th>\n",
       "      <th>title</th>\n",
       "    </tr>\n",
       "  </thead>\n",
       "  <tbody>\n",
       "    <tr>\n",
       "      <th>0</th>\n",
       "      <td>0</td>\n",
       "      <td>0</td>\n",
       "      <td>414</td>\n",
       "      <td>17</td>\n",
       "      <td>New weekly question threads will be automatica...</td>\n",
       "      <td>dndnext</td>\n",
       "      <td>Weekly Question Thread: Ask questions here Mar...</td>\n",
       "    </tr>\n",
       "    <tr>\n",
       "      <th>1</th>\n",
       "      <td>0</td>\n",
       "      <td>0</td>\n",
       "      <td>1</td>\n",
       "      <td>6</td>\n",
       "      <td>Got a pic of your dice, minis, table or just s...</td>\n",
       "      <td>dndnext</td>\n",
       "      <td>Snapshots: post pics! March 30, 2019</td>\n",
       "    </tr>\n",
       "    <tr>\n",
       "      <th>2</th>\n",
       "      <td>0</td>\n",
       "      <td>0</td>\n",
       "      <td>26</td>\n",
       "      <td>87</td>\n",
       "      <td>It is an optional rule on page 263 of the DMG....</td>\n",
       "      <td>dndnext</td>\n",
       "      <td>Has anyone tried the \"Ability Check Proficienc...</td>\n",
       "    </tr>\n",
       "    <tr>\n",
       "      <th>3</th>\n",
       "      <td>0</td>\n",
       "      <td>0</td>\n",
       "      <td>41</td>\n",
       "      <td>64</td>\n",
       "      <td>Hello!\\n\\nI played D&amp;amp;D with friends in mid...</td>\n",
       "      <td>dndnext</td>\n",
       "      <td>Wanting to try D&amp;amp;D again. It's been 25 years.</td>\n",
       "    </tr>\n",
       "    <tr>\n",
       "      <th>4</th>\n",
       "      <td>0</td>\n",
       "      <td>0</td>\n",
       "      <td>100</td>\n",
       "      <td>964</td>\n",
       "      <td>They were supposed to level up, become heroes ...</td>\n",
       "      <td>dndnext</td>\n",
       "      <td>It finally happened, they ended up in jail</td>\n",
       "    </tr>\n",
       "  </tbody>\n",
       "</table>\n",
       "</div>"
      ],
      "text/plain": [
       "   has_unique_domain  has_media  num_comments  score  \\\n",
       "0                  0          0           414     17   \n",
       "1                  0          0             1      6   \n",
       "2                  0          0            26     87   \n",
       "3                  0          0            41     64   \n",
       "4                  0          0           100    964   \n",
       "\n",
       "                                            selftext subreddit  \\\n",
       "0  New weekly question threads will be automatica...   dndnext   \n",
       "1  Got a pic of your dice, minis, table or just s...   dndnext   \n",
       "2  It is an optional rule on page 263 of the DMG....   dndnext   \n",
       "3  Hello!\\n\\nI played D&amp;D with friends in mid...   dndnext   \n",
       "4  They were supposed to level up, become heroes ...   dndnext   \n",
       "\n",
       "                                               title  \n",
       "0  Weekly Question Thread: Ask questions here Mar...  \n",
       "1               Snapshots: post pics! March 30, 2019  \n",
       "2  Has anyone tried the \"Ability Check Proficienc...  \n",
       "3  Wanting to try D&amp;D again. It's been 25 years.  \n",
       "4         It finally happened, they ended up in jail  "
      ]
     },
     "execution_count": 188,
     "metadata": {},
     "output_type": "execute_result"
    }
   ],
   "source": [
    "final.head()"
   ]
  },
  {
   "cell_type": "markdown",
   "metadata": {},
   "source": [
    "### Splitting\n",
    "---\n",
    "\n",
    "Because the training and testing data was merged during cleaning and exported as one dataframe, the dataframe is split here and the subreddit is remapped to 1s and 0s."
   ]
  },
  {
   "cell_type": "code",
   "execution_count": 189,
   "metadata": {},
   "outputs": [],
   "source": [
    "# Finding the index at which to split the whole dataframe before mapping\n",
    "\n",
    "split_index = (final[(final[\"subreddit\"] == \"dndnext\") |\n",
    "                     (final[\"subreddit\"] == \"Pathfinder_RPG\")].index).max()"
   ]
  },
  {
   "cell_type": "code",
   "execution_count": 190,
   "metadata": {},
   "outputs": [],
   "source": [
    "# Mapping DnDNext to 1 and Pathfinder_RPG to 0\n",
    "\n",
    "final[\"subreddit\"] = final[\"subreddit\"].map({'Pathfinder_RPG': 0, 'dndnext': 1, \n",
    "                                             'dndnext_test': 1, 'pathfinder_test': 0})"
   ]
  },
  {
   "cell_type": "code",
   "execution_count": 191,
   "metadata": {
    "scrolled": true
   },
   "outputs": [],
   "source": [
    "# Splitting into a training and testing data frame\n",
    "\n",
    "df = final.iloc[:(split_index + 1), :]\n",
    "\n",
    "df_test = final.iloc[(split_index + 1):, :]"
   ]
  },
  {
   "cell_type": "markdown",
   "metadata": {},
   "source": [
    "<a id = \"vec\"></a>\n",
    "\n",
    "## Subtracting Vectorizers\n",
    "---\n",
    "\n",
    "The goal of this section is to fit a vecorizer to our total data to find the 1000 most common words, then transform all of our data grouped by subreddit to find the word sum count for each of the 1000 words. The sums are then subtracted from each other, giving us the diffence in word counts which shows the most common words for each subreddit by absolute value. Negative values pertain to the Pathfinder_RPG subreddit, while positive values correspond to the DnDNext subreddit.\n",
    "\n",
    "While the code is mine, the orginal idea for vector subtractions came from Patrick; I feel compelled to credit him because these operations informed many of my personal insights derived from the data.\n",
    "\n",
    "After preliminary modeling, I continued to examine the vectors in [Further Vector Observations](#vec2).\n",
    "\n",
    "[Back to top](#top)"
   ]
  },
  {
   "cell_type": "code",
   "execution_count": 585,
   "metadata": {},
   "outputs": [],
   "source": [
    "features = [\"selftext\"]\n",
    "\n",
    "X = df[\"selftext\"]\n",
    "y = df[\"subreddit\"]\n",
    "\n",
    "X_train, X_test, y_train, y_test = train_test_split(X, y,\n",
    "                                                    random_state = 35,\n",
    "                                                    stratify = y)"
   ]
  },
  {
   "cell_type": "code",
   "execution_count": 586,
   "metadata": {},
   "outputs": [],
   "source": [
    "dnd_vec = df[df[\"subreddit\"] == 1][\"selftext\"]\n",
    "path_vec = df[df[\"subreddit\"] == 0][\"selftext\"]"
   ]
  },
  {
   "cell_type": "code",
   "execution_count": 587,
   "metadata": {},
   "outputs": [],
   "source": [
    "cvec = CountVectorizer(max_features = 1000,\n",
    "                       stop_words = \"english\")\n",
    "\n",
    "X_cvec = pd.DataFrame(cvec.fit_transform(X).todense(), \n",
    "                      columns = cvec.get_feature_names())\n",
    "\n",
    "dnd_vec = pd.DataFrame(cvec.transform(dnd_vec).todense(), \n",
    "                       columns = cvec.get_feature_names())\n",
    "\n",
    "path_vec = pd.DataFrame(cvec.transform(path_vec).todense(), \n",
    "                        columns = cvec.get_feature_names())"
   ]
  },
  {
   "cell_type": "code",
   "execution_count": 588,
   "metadata": {},
   "outputs": [],
   "source": [
    "vec = dnd_vec.sum() - path_vec.sum()"
   ]
  },
  {
   "cell_type": "code",
   "execution_count": 589,
   "metadata": {
    "scrolled": true
   },
   "outputs": [
    {
     "data": {
      "text/plain": [
       "com              -266\n",
       "feats            -232\n",
       "amp              -226\n",
       "https            -213\n",
       "www              -200\n",
       "pathfinder       -192\n",
       "d20pfsrd         -191\n",
       "paizo            -180\n",
       "gm               -174\n",
       "build            -146\n",
       "spell            -132\n",
       "x200b            -124\n",
       "level            -120\n",
       "feat             -116\n",
       "archetype        -105\n",
       "pathfinder_rpg    -90\n",
       "aonprd            -90\n",
       "archetypes        -90\n",
       "classes           -89\n",
       "aspx              -88\n",
       "search            -85\n",
       "does              -85\n",
       "summoner          -82\n",
       "use               -81\n",
       "combat            -81\n",
       "restrict_sr       -80\n",
       "alchemist         -79\n",
       "skill             -79\n",
       "evil              -68\n",
       "reddit            -68\n",
       "                 ... \n",
       "feature            41\n",
       "proficiency        41\n",
       "drow               42\n",
       "barbarian          42\n",
       "cast               43\n",
       "think              45\n",
       "roll               45\n",
       "new                46\n",
       "subclass           47\n",
       "saving             47\n",
       "rest               48\n",
       "damage             50\n",
       "tools              50\n",
       "cleric             50\n",
       "make               53\n",
       "hit                53\n",
       "sword              54\n",
       "wizard             57\n",
       "pact               60\n",
       "dnd                64\n",
       "artificer          66\n",
       "turn               67\n",
       "player             70\n",
       "bard               70\n",
       "players            73\n",
       "dragon             79\n",
       "character          86\n",
       "5e                 89\n",
       "warlock           111\n",
       "dm                222\n",
       "Length: 1000, dtype: int64"
      ]
     },
     "execution_count": 589,
     "metadata": {},
     "output_type": "execute_result"
    }
   ],
   "source": [
    "vec.sort_values()"
   ]
  },
  {
   "cell_type": "code",
   "execution_count": 608,
   "metadata": {},
   "outputs": [
    {
     "data": {
      "image/png": "[encoded data removed]",
      "text/plain": [
       "<Figure size 864x1440 with 1 Axes>"
      ]
     },
     "metadata": {
      "needs_background": "light"
     },
     "output_type": "display_data"
    }
   ],
   "source": [
    "plt.figure(figsize = (12,20))\n",
    "for i in range(0, 1000, 25):\n",
    "    plt.barh(dnd_vec.sum().sort_values().index[i], \n",
    "             dnd_vec.sum().sort_values()[i],\n",
    "             color = \"crimson\",\n",
    "             edgecolor = \"k\");\n",
    "    \n",
    "plt.ylabel(\"<--  Least Common DnD Words \\n\\n Most Common DnD Words  -->\")\n",
    "plt.xlabel(\"Frequency\")\n",
    "plt.title(\"Term Frequency\");\n",
    "\n",
    "plt.savefig(\"../images/dnd_term_frequency_untrimmed.png\")"
   ]
  },
  {
   "cell_type": "markdown",
   "metadata": {},
   "source": [
    "> Visualization of the most common words from the DnDNext subreddit before trimming. These are (obviously) not the only words, but this shows the shape of the sums. Note that the highest word is https, an artifact from a hyperlink. While common, these do not carry any information about the subreddit, similar to a stop word. These mwill be trimmed out in the following section."
   ]
  },
  {
   "cell_type": "code",
   "execution_count": 604,
   "metadata": {
    "scrolled": true
   },
   "outputs": [
    {
     "data": {
      "text/plain": [
       "amp          800\n",
       "level        621\n",
       "like         560\n",
       "spell        543\n",
       "x200b        519\n",
       "just         512\n",
       "com          475\n",
       "https        433\n",
       "character    402\n",
       "use          386\n",
       "make         340\n",
       "party        310\n",
       "ve           304\n",
       "www          296\n",
       "players      293\n",
       "time         292\n",
       "game         291\n",
       "want         284\n",
       "spells       274\n",
       "know         268\n",
       "campaign     263\n",
       "feats        262\n",
       "don          261\n",
       "damage       261\n",
       "good         257\n",
       "magic        250\n",
       "new          235\n",
       "does         232\n",
       "way          230\n",
       "attack       227\n",
       "            ... \n",
       "advantage      9\n",
       "okay           9\n",
       "leader         9\n",
       "white          9\n",
       "guard          9\n",
       "enjoy          9\n",
       "bear           9\n",
       "slots          9\n",
       "silver         9\n",
       "blast          9\n",
       "speak          8\n",
       "dms            8\n",
       "luck           7\n",
       "pact           6\n",
       "warlock        6\n",
       "view           5\n",
       "variant        5\n",
       "minions        5\n",
       "cantrip        5\n",
       "reaction       5\n",
       "beginning      5\n",
       "cards          4\n",
       "tool           3\n",
       "swords         2\n",
       "cantrips       2\n",
       "tools          1\n",
       "cassandra      0\n",
       "subclass       0\n",
       "strahd         0\n",
       "artificer      0\n",
       "Length: 1000, dtype: int64"
      ]
     },
     "execution_count": 604,
     "metadata": {},
     "output_type": "execute_result"
    }
   ],
   "source": [
    "path_vec.sum().sort_values(ascending = False)"
   ]
  },
  {
   "cell_type": "code",
   "execution_count": 637,
   "metadata": {
    "scrolled": false
   },
   "outputs": [
    {
     "data": {
      "image/png": "[encoded data removed]",
      "text/plain": [
       "<Figure size 864x1440 with 1 Axes>"
      ]
     },
     "metadata": {
      "needs_background": "light"
     },
     "output_type": "display_data"
    }
   ],
   "source": [
    "plt.figure(figsize = (12,20))\n",
    "for i in range(0, 1000, 25):\n",
    "    plt.barh(path_vec.sum().sort_values(ascending = False).index[i], \n",
    "             path_vec.sum().sort_values(ascending = False)[i],\n",
    "             color = \"crimson\",\n",
    "             edgecolor = \"k\");\n",
    "    \n",
    "plt.ylabel(\"<--  Most Common Pathfinder Words \\n\\n Least Common Pathfinder Words  -->\")\n",
    "plt.xlabel(\"Frequency\")\n",
    "plt.title(\"Term Frequency\")\n",
    "\n",
    "\n",
    "plt.gca().invert_xaxis();\n",
    "\n",
    "plt.savefig(\"../images/path_term_frequency_untrimmed.png\")"
   ]
  },
  {
   "cell_type": "markdown",
   "metadata": {},
   "source": [
    "> The same chart but for Pathfinder. This one is flipped on its side to mimic the shape of the subtracted vectors, which is generated further down the notebook."
   ]
  },
  {
   "cell_type": "code",
   "execution_count": 206,
   "metadata": {},
   "outputs": [],
   "source": [
    "# Pruning more words out of the model to hopefully cut back\n",
    "# on the amout of words that contain little value. These\n",
    "# words are mostly artifacts from links posted within the \n",
    "# subreddits and not from the content of the posts themselves.\n",
    "\n",
    "# Doing this will negatively impact our scores; some of these\n",
    "# words, (amp, aspx, x200b) contain no interpretable information \n",
    "# but are highly correlated with the Pathfinder_RPG subreddit\n",
    "# because sharing links is more common in the Pathfinder reddit\n",
    "# than in the DnD reddit. \n",
    "\n",
    "# Despite actively making future models worse by removing\n",
    "# identifiable words, it seems right to do so because these\n",
    "# words don't include an human interpretable information.\n",
    "# However, one might argue that the presence of links is a\n",
    "# human interpretable piece of information.\n",
    "\n",
    "more_stop_words = {\"com\", \"feats\", \"amp\", \n",
    "                   \"https\", \"www\", \"aspx\", \n",
    "                   \"x200b\", \"restrict_sr\", \n",
    "                   \"pathfinder_rpg\", \"dndnext\"}"
   ]
  },
  {
   "cell_type": "code",
   "execution_count": 207,
   "metadata": {},
   "outputs": [],
   "source": [
    "# [df[\"selftext\"][i] for i in range(len(df[\"selftext\"])) if \"Pathfinder_RPG\" in df[\"selftext\"][i]]"
   ]
  },
  {
   "cell_type": "code",
   "execution_count": 208,
   "metadata": {},
   "outputs": [],
   "source": [
    "# Hand-selected stop words added to the english dictionary\n",
    "# of stop words from nltk. Code taken from Charlie's word \n",
    "# cloud lesson. Thank you Charlie!\n",
    "\n",
    "stop = stopwords.words('english')\n",
    "stop = {x.lower() for x in stop}\n",
    "stop = stop|more_stop_words"
   ]
  },
  {
   "cell_type": "code",
   "execution_count": 209,
   "metadata": {
    "scrolled": true
   },
   "outputs": [
    {
     "data": {
      "text/plain": [
       "pathfinder   -192\n",
       "d20pfsrd     -191\n",
       "paizo        -180\n",
       "gm           -174\n",
       "build        -146\n",
       "spell        -132\n",
       "level        -120\n",
       "feat         -116\n",
       "archetype    -105\n",
       "archetypes    -90\n",
       "aonprd        -90\n",
       "classes       -89\n",
       "search        -85\n",
       "summoner      -82\n",
       "combat        -81\n",
       "use           -81\n",
       "alchemist     -79\n",
       "skill         -79\n",
       "evil          -68\n",
       "reddit        -68\n",
       "22            -67\n",
       "sort          -65\n",
       "round         -63\n",
       "per           -60\n",
       "oracle        -60\n",
       "discussion    -59\n",
       "animal        -59\n",
       "flair         -59\n",
       "title         -57\n",
       "itemname      -57\n",
       "             ... \n",
       "drow           42\n",
       "cast           43\n",
       "think          45\n",
       "roll           45\n",
       "without        45\n",
       "new            46\n",
       "saving         47\n",
       "subclass       47\n",
       "rest           48\n",
       "damage         50\n",
       "cleric         50\n",
       "tools          50\n",
       "make           53\n",
       "hit            53\n",
       "sword          54\n",
       "see            56\n",
       "wizard         57\n",
       "pact           60\n",
       "dnd            64\n",
       "artificer      66\n",
       "turn           67\n",
       "bard           70\n",
       "player         70\n",
       "one            71\n",
       "players        73\n",
       "dragon         79\n",
       "character      86\n",
       "5e             89\n",
       "warlock       111\n",
       "dm            222\n",
       "Length: 1000, dtype: int64"
      ]
     },
     "execution_count": 209,
     "metadata": {},
     "output_type": "execute_result"
    }
   ],
   "source": [
    "features = [\"selftext\"]\n",
    "\n",
    "X = df[\"selftext\"]\n",
    "y = df[\"subreddit\"]\n",
    "\n",
    "X_train, X_test, y_train, y_test = train_test_split(X, y,\n",
    "                                                    random_state = 35,\n",
    "                                                    stratify = y)\n",
    "\n",
    "dnd_vec = df[df[\"subreddit\"] == 1][\"selftext\"]\n",
    "path_vec = df[df[\"subreddit\"] == 0][\"selftext\"]\n",
    "\n",
    "cvec = CountVectorizer(max_features = 1000,\n",
    "                       stop_words = stop)\n",
    "                       #ngram_range = (1,2))\n",
    "\n",
    "X_cvec = pd.DataFrame(cvec.fit_transform(X).todense(), \n",
    "                      columns = cvec.get_feature_names())\n",
    "\n",
    "dnd_vec = pd.DataFrame(cvec.transform(dnd_vec).todense(), \n",
    "                       columns = cvec.get_feature_names())\n",
    "\n",
    "path_vec = pd.DataFrame(cvec.transform(path_vec).todense(), \n",
    "                        columns = cvec.get_feature_names())\n",
    "\n",
    "vec = dnd_vec.sum() - path_vec.sum()\n",
    "vec.sort_values()"
   ]
  },
  {
   "cell_type": "markdown",
   "metadata": {},
   "source": [
    "<a id = \"comp\"></a>\n",
    "## Model Comparisons\n",
    "---\n",
    "\n",
    "These are the preliminary models used to find which model will give me the most accurate results. As I, and many others have found, the main issue when modeling with bag of words models is the high variance. Most of the models had not trouble getting training scores of 90% or higher, but the cross validation and subsequent test scores were almost always around the mid 70s. Eventually, it seemed that hyperparameter tuning could only do so much to to reduce the variance, so I went back to the drawing board with the vectorizers to reduce the variance by trimming out some of the features. \n",
    "\n",
    "The model that I decided to use for further analysis and the presentation was the Multinomial Naive Bayes model. Although the training scores were not as high as some of the other models, the scores themselves were closer together than any of the other models, meaning I had a lower baseline variance to reduce.\n",
    "\n",
    "All scores are measured in accuracy. This is because both unbalanced classes and misclassification are not issues, as incorrectly identifying one subreddit from the other does not have much of a real world impact. \n",
    "\n",
    "- [Naive Bayes](#multinb)\n",
    "- [Trees](#trees)\n",
    "- [Support Vector Machines](#svm)\n",
    "- [Logistic Regression](#logreg)\n",
    "- [Optimizing the Naive Bayes model](#nb2)\n",
    "\n",
    "\n",
    "[Back to top](#top)"
   ]
  },
  {
   "cell_type": "markdown",
   "metadata": {},
   "source": [
    "<a id = \"multinb\"></a>\n",
    "    \n",
    "### Naïve Bayes\n",
    "---\n",
    "\n",
    "[Back to Model Comparisons](#comp)"
   ]
  },
  {
   "cell_type": "code",
   "execution_count": 192,
   "metadata": {},
   "outputs": [],
   "source": [
    "X = df[\"selftext\"]\n",
    "y = df[\"subreddit\"]\n",
    "\n",
    "X_train, X_test, y_train, y_test = train_test_split(X, y,\n",
    "                                                    random_state = 35,\n",
    "                                                    stratify = y)"
   ]
  },
  {
   "cell_type": "code",
   "execution_count": 274,
   "metadata": {},
   "outputs": [
    {
     "data": {
      "text/plain": [
       "1    0.500252\n",
       "0    0.499748\n",
       "Name: subreddit, dtype: float64"
      ]
     },
     "execution_count": 274,
     "metadata": {},
     "output_type": "execute_result"
    }
   ],
   "source": [
    "# Baseline accuracy score\n",
    "\n",
    "y.value_counts(normalize = True)"
   ]
  },
  {
   "cell_type": "code",
   "execution_count": 194,
   "metadata": {},
   "outputs": [
    {
     "name": "stdout",
     "output_type": "stream",
     "text": [
      "Naive Bayes Model Training Score:\t 0.8168350168350168\n",
      "Naive Bayes Model Testing Score:\t 0.7681451612903226\n"
     ]
    }
   ],
   "source": [
    "cvec = CountVectorizer(max_features = 1000,\n",
    "                       stop_words = \"english\")\n",
    "\n",
    "X_train_cvec = pd.DataFrame(cvec.fit_transform(X_train).todense(), \n",
    "                            columns = cvec.get_feature_names())\n",
    "X_test_cvec = pd.DataFrame(cvec.transform(X_test).todense(), \n",
    "                           columns = cvec.get_feature_names())\n",
    "\n",
    "nb = MultinomialNB()\n",
    "nb.fit(X_train_cvec, y_train)\n",
    "\n",
    "print(f\"Naive Bayes Model Training Score:\\t {nb.score(X_train_cvec, y_train)}\")\n",
    "print(f\"Naive Bayes Model Testing Score:\\t {nb.score(X_test_cvec, y_test)}\")"
   ]
  },
  {
   "cell_type": "code",
   "execution_count": 195,
   "metadata": {},
   "outputs": [
    {
     "data": {
      "text/plain": [
       "0.74002416082953"
      ]
     },
     "execution_count": 195,
     "metadata": {},
     "output_type": "execute_result"
    }
   ],
   "source": [
    "cross_val_score(nb, X_train_cvec, y_train, cv = 5).mean()"
   ]
  },
  {
   "cell_type": "code",
   "execution_count": 196,
   "metadata": {
    "scrolled": true
   },
   "outputs": [
    {
     "data": {
      "text/plain": [
       "amp            1012\n",
       "level           897\n",
       "like            859\n",
       "just            815\n",
       "spell           710\n",
       "character       659\n",
       "x200b           652\n",
       "make            566\n",
       "com             553\n",
       "https           529\n",
       "use             500\n",
       "party           484\n",
       "players         482\n",
       "ve              464\n",
       "want            453\n",
       "damage          444\n",
       "know            421\n",
       "time            411\n",
       "campaign        403\n",
       "game            397\n",
       "don             397\n",
       "new             395\n",
       "spells          389\n",
       "attack          362\n",
       "magic           355\n",
       "dm              343\n",
       "think           339\n",
       "good            333\n",
       "way             329\n",
       "weapon          328\n",
       "               ... \n",
       "gallery          23\n",
       "dispel           23\n",
       "gms              23\n",
       "dies             23\n",
       "cave             23\n",
       "ap               23\n",
       "tactics          23\n",
       "sun              23\n",
       "suggest          23\n",
       "succeed          23\n",
       "bigger           23\n",
       "souls            23\n",
       "smite            23\n",
       "tricks           23\n",
       "monkey           23\n",
       "scorching        23\n",
       "result           23\n",
       "originally       23\n",
       "utility          23\n",
       "obvious          23\n",
       "appropriate      23\n",
       "details          23\n",
       "view             23\n",
       "expect           22\n",
       "fast             22\n",
       "knew             22\n",
       "ok               22\n",
       "gonna            22\n",
       "member           22\n",
       "topics           22\n",
       "Length: 1000, dtype: int64"
      ]
     },
     "execution_count": 196,
     "metadata": {},
     "output_type": "execute_result"
    }
   ],
   "source": [
    "X_train_cvec.sum().sort_values(ascending = False)"
   ]
  },
  {
   "cell_type": "markdown",
   "metadata": {},
   "source": [
    "<a id = \"trees\"></a>\n",
    "\n",
    "### Random and Extreme Trees\n",
    "---\n",
    "[Back to Model Comparisons](#comp)"
   ]
  },
  {
   "cell_type": "code",
   "execution_count": 214,
   "metadata": {},
   "outputs": [],
   "source": [
    "X = df[\"selftext\"]\n",
    "y = df[\"subreddit\"]\n",
    "\n",
    "X_train, X_test, y_train, y_test = train_test_split(X, y,\n",
    "                                                    random_state = 35,\n",
    "                                                    stratify = y)"
   ]
  },
  {
   "cell_type": "code",
   "execution_count": 242,
   "metadata": {},
   "outputs": [
    {
     "name": "stdout",
     "output_type": "stream",
     "text": [
      "---------------------------------------- \n",
      "\n",
      "Train score: \t0.9265993265993266\n",
      "Test score:  \t0.7963709677419355\n",
      "\n",
      "Best params: \t{'cvec__max_features': 1500, 'et__max_depth': 25, 'et__max_features': 60, 'et__min_samples_split': 5, 'et__n_estimators': 78}\n",
      "\n",
      "----------------------------------------\n"
     ]
    }
   ],
   "source": [
    "pipe = Pipeline([\n",
    "                (\"cvec\", CountVectorizer(stop_words = stop)),\n",
    "                (\"et\", ExtraTreesClassifier(random_state = 35))\n",
    "                ])\n",
    "\n",
    "params = {\n",
    "    \"cvec__max_features\": [1500, 2000],\n",
    "    # \"cvec__stop_words\":   [stop],\n",
    "    \n",
    "    \"et__n_estimators\": [75, 78],\n",
    "    \"et__max_depth\": [5, 10, 25],\n",
    "    \"et__max_features\": [60, 65],\n",
    "    \"et__min_samples_split\": [5]\n",
    "}\n",
    "\n",
    "grid = GridSearchCV(pipe, param_grid = params, cv = 3, n_jobs = 1)\n",
    "grid.fit(X_train, y_train)\n",
    "\n",
    "print(\"--\" * 20, \"\\n\")\n",
    "\n",
    "print(f\"Train score: \\t{grid.score(X_train, y_train)}\")\n",
    "print(f\"Test score:  \\t{grid.score(X_test, y_test)}\\n\")\n",
    "\n",
    "print(f\"Best params: \\t{grid.best_params_}\\n\")\n",
    "    \n",
    "print(\"--\" * 20)"
   ]
  },
  {
   "cell_type": "code",
   "execution_count": 240,
   "metadata": {},
   "outputs": [
    {
     "name": "stdout",
     "output_type": "stream",
     "text": [
      "---------------------------------------- \n",
      "\n",
      "Train score: \t0.9427609427609428\n",
      "Test score:  \t0.7923387096774194\n",
      "\n",
      "Best params: \t{'cvec__max_features': 2500, 'rf__max_depth': 25, 'rf__max_features': 60, 'rf__n_estimators': 78}\n",
      "\n",
      "----------------------------------------\n"
     ]
    }
   ],
   "source": [
    "pipe = Pipeline([\n",
    "                (\"cvec\", CountVectorizer(stop_words = stop)),\n",
    "                (\"rf\", RandomForestClassifier(random_state = 35))\n",
    "                ])\n",
    "\n",
    "params = {\n",
    "    \"cvec__max_features\": [2500],\n",
    "    # \"cvec__stop_words\":   [stop],\n",
    "    \n",
    "    \"rf__n_estimators\": [78],\n",
    "    \"rf__max_depth\": [25],\n",
    "    \"rf__max_features\": [60],\n",
    "    #\"rf__min_samples_split\": [2, 5, 10]\n",
    "    #\"bootstrap\": []\n",
    "}\n",
    "\n",
    "grid = GridSearchCV(pipe, param_grid = params, cv = 3, n_jobs = 1)\n",
    "grid.fit(X_train, y_train)\n",
    "\n",
    "print(\"--\" * 20, \"\\n\")\n",
    "\n",
    "print(f\"Train score: \\t{grid.score(X_train, y_train)}\")\n",
    "print(f\"Test score:  \\t{grid.score(X_test, y_test)}\\n\")\n",
    "\n",
    "print(f\"Best params: \\t{grid.best_params_}\\n\")\n",
    "    \n",
    "print(\"--\" * 20)"
   ]
  },
  {
   "cell_type": "markdown",
   "metadata": {},
   "source": [
    "<a id = \"svm\"></a>\n",
    "\n",
    "### Support Vector Machine\n",
    "---\n",
    "[Back to Model Comparisons](#comp)"
   ]
  },
  {
   "cell_type": "code",
   "execution_count": 216,
   "metadata": {},
   "outputs": [],
   "source": [
    "X = df[\"selftext\"]\n",
    "y = df[\"subreddit\"]\n",
    "\n",
    "X_train, X_test, y_train, y_test = train_test_split(X, y,\n",
    "                                                    random_state = 35,\n",
    "                                                    stratify = y)"
   ]
  },
  {
   "cell_type": "code",
   "execution_count": 218,
   "metadata": {},
   "outputs": [
    {
     "name": "stderr",
     "output_type": "stream",
     "text": [
      "/anaconda3/lib/python3.6/site-packages/sklearn/svm/base.py:196: FutureWarning: The default value of gamma will change from 'auto' to 'scale' in version 0.22 to account better for unscaled features. Set gamma explicitly to 'auto' or 'scale' to avoid this warning.\n",
      "  \"avoid this warning.\", FutureWarning)\n"
     ]
    },
    {
     "name": "stdout",
     "output_type": "stream",
     "text": [
      "---------------------------------------- \n",
      "\n",
      "Train score: \t0.835016835016835\n",
      "Test score:  \t0.75\n",
      "\n",
      "Best params: \t{'cvec__max_features': 1000, 'cvec__stop_words': {\"you'd\", 'but', 'yourself', 'for', 'to', 'same', 'shan', 'wasn', 'would', 'one', 'pathfinder_rpg', 'a', 'too', 'the', 'them', 'only', 'on', 'm', 'amp', \"she's\", 'these', 'because', 'be', 'himself', 'me', 'if', 'how', 'both', 'having', 'y', 'then', 'should', 'no', \"hadn't\", \"doesn't\", 'at', 'whom', 'once', 's', 'herself', 'itself', 'above', 'again', 'that', 'myself', 'what', 'ours', 'themselves', 'out', 'against', \"didn't\", 'did', 'd', 'its', 'mustn', 'with', \"shan't\", 'nor', 'is', 't', \"that'll\", 'isn', 'than', 'have', \"you'll\", 'each', 'are', 'wouldn', 'such', 'has', 'just', \"hasn't\", 'dndnext', 'won', \"haven't\", 'between', 'restrict_sr', 'their', 'he', 'now', \"needn't\", 'was', \"don't\", 'very', 'up', 'didn', 'after', 'which', 'off', \"couldn't\", 'as', 'like', 'yours', 'couldn', \"won't\", 'who', 'it', \"shouldn't\", 'during', 'don', 'before', 'our', 'ourselves', \"mustn't\", 'shouldn', 'from', 'weren', 'hadn', 'i', 'am', 'about', \"wouldn't\", 'this', \"you're\", 'does', 'all', \"aren't\", 'under', 'any', 'aspx', 'been', 'my', 'x200b', 'had', 'hasn', 'through', 'ain', \"mightn't\", 'until', 're', 'him', 'below', 'own', \"should've\", 'she', 'feats', 'why', \"wasn't\", 'when', 'some', 'doesn', 'com', 'can', 'down', 'do', 'hers', 'your', 'needn', 'an', 'of', 'so', 'by', 'will', 'haven', \"isn't\", 'mightn', 'not', 'being', 'and', 'you', \"it's\", 'more', 'll', 'those', 'there', \"weren't\", 'www', 'were', 'her', 'doing', 'further', 'few', 'or', 'we', 'yourselves', 'in', 'ma', \"you've\", 'here', 'while', 'they', 'where', 'other', 've', 'https', 'theirs', 'aren', 'over', 'his', 'o', 'into', 'most'}, 'svm__C': 10, 'svm__kernel': 'sigmoid'}\n",
      "\n",
      "----------------------------------------\n"
     ]
    }
   ],
   "source": [
    "pipe = Pipeline([\n",
    "                (\"cvec\", CountVectorizer()),\n",
    "                (\"svm\", svm.SVC())\n",
    "                ])\n",
    "\n",
    "params = {\n",
    "    \"cvec__max_features\": [1000, 1500],\n",
    "    \"cvec__stop_words\":   [stop],\n",
    "    #\"cvec__ngram_range\":  [(1,1)]\n",
    "    \n",
    "    \"svm__kernel\": [\"linear\", \"poly\", \"sigmoid\"],\n",
    "    \"svm__C\":      [0.1, 1, 10]\n",
    "}\n",
    "\n",
    "grid = GridSearchCV(pipe, param_grid = params, cv = 3, n_jobs = 1)\n",
    "grid.fit(X_train, y_train)\n",
    "\n",
    "print(\"--\" * 20, \"\\n\")\n",
    "\n",
    "print(f\"Train score: \\t{grid.score(X_train, y_train)}\")\n",
    "print(f\"Test score:  \\t{grid.score(X_test, y_test)}\\n\")\n",
    "\n",
    "print(f\"Best params: \\t{grid.best_params_}\\n\")\n",
    "    \n",
    "print(\"--\" * 20)"
   ]
  },
  {
   "cell_type": "markdown",
   "metadata": {},
   "source": [
    "<a id = \"logreg\"></a>\n",
    "\n",
    "### Logistic Regression\n",
    "---\n",
    "[Back to Model Comparisons](#comp)"
   ]
  },
  {
   "cell_type": "code",
   "execution_count": 448,
   "metadata": {},
   "outputs": [],
   "source": [
    "X = df[\"selftext\"]\n",
    "y = df[\"subreddit\"]\n",
    "\n",
    "X_train, X_test, y_train, y_test = train_test_split(X, y,\n",
    "                                                    random_state = 35,\n",
    "                                                    stratify = y)"
   ]
  },
  {
   "cell_type": "code",
   "execution_count": 449,
   "metadata": {},
   "outputs": [
    {
     "name": "stderr",
     "output_type": "stream",
     "text": [
      "/anaconda3/lib/python3.6/site-packages/sklearn/linear_model/logistic.py:433: FutureWarning: Default solver will be changed to 'lbfgs' in 0.22. Specify a solver to silence this warning.\n",
      "  FutureWarning)\n"
     ]
    },
    {
     "name": "stdout",
     "output_type": "stream",
     "text": [
      "---------------------------------------- \n",
      "\n",
      "Train score: \t0.9649831649831649\n",
      "Test score:  \t0.75\n",
      "\n",
      "Best params: \t{'cvec__max_features': 1000}\n",
      "\n",
      "----------------------------------------\n"
     ]
    }
   ],
   "source": [
    "pipe = Pipeline([\n",
    "                (\"cvec\", CountVectorizer(stop_words = stop)),\n",
    "                (\"logreg\", LogisticRegression())\n",
    "                ])\n",
    "\n",
    "params = {\n",
    "    \"cvec__max_features\": [1000],\n",
    "    \n",
    "    #\"logreg__C\": [0.01, 0.05, 0.1, 0.2 ]\n",
    "}\n",
    "\n",
    "grid = GridSearchCV(pipe, param_grid = params, cv = 5, n_jobs = 1)\n",
    "grid.fit(X_train, y_train)\n",
    "\n",
    "print(\"--\" * 20, \"\\n\")\n",
    "\n",
    "print(f\"Train score: \\t{grid.score(X_train, y_train)}\")\n",
    "print(f\"Test score:  \\t{grid.score(X_test, y_test)}\\n\")\n",
    "\n",
    "print(f\"Best params: \\t{grid.best_params_}\\n\")\n",
    "    \n",
    "print(\"--\" * 20)"
   ]
  },
  {
   "cell_type": "markdown",
   "metadata": {},
   "source": [
    "<a id = \"nb2\"></a>\n",
    "\n",
    "### Optimizing the Naive Bayes model\n",
    "---\n",
    "\n",
    "[Back to Model Comparisons](#comp)"
   ]
  },
  {
   "cell_type": "code",
   "execution_count": 450,
   "metadata": {},
   "outputs": [],
   "source": [
    "X = df[\"selftext\"]\n",
    "y = df[\"subreddit\"]\n",
    "\n",
    "X_train, X_test, y_train, y_test = train_test_split(X, y,\n",
    "                                                    random_state = 35,\n",
    "                                                    stratify = y)"
   ]
  },
  {
   "cell_type": "code",
   "execution_count": 451,
   "metadata": {},
   "outputs": [
    {
     "name": "stdout",
     "output_type": "stream",
     "text": [
      "---------------------------------------- \n",
      "\n",
      "Train score: \t0.8888888888888888\n",
      "Test score:  \t0.8125\n",
      "\n",
      "Best params: \t{'cvec__max_features': 3000, 'nb__alpha': 0.1}\n",
      "\n",
      "----------------------------------------\n"
     ]
    }
   ],
   "source": [
    "pipe = Pipeline([\n",
    "                (\"cvec\", CountVectorizer(stop_words = stop)),\n",
    "                (\"nb\", MultinomialNB())\n",
    "                ])\n",
    "\n",
    "params = {\n",
    "    \"cvec__max_features\": [3000],\n",
    "    \n",
    "    \"nb__alpha\": [1.0, 0.1, 5]\n",
    "}\n",
    "\n",
    "grid = GridSearchCV(pipe, param_grid = params, cv = 5, n_jobs = 1)\n",
    "grid.fit(X_train, y_train)\n",
    "\n",
    "print(\"--\" * 20, \"\\n\")\n",
    "\n",
    "print(f\"Train score: \\t{grid.score(X_train, y_train)}\")\n",
    "print(f\"Test score:  \\t{grid.score(X_test, y_test)}\\n\")\n",
    "\n",
    "print(f\"Best params: \\t{grid.best_params_}\\n\")\n",
    "    \n",
    "print(\"--\" * 20)"
   ]
  },
  {
   "cell_type": "code",
   "execution_count": 327,
   "metadata": {},
   "outputs": [
    {
     "name": "stdout",
     "output_type": "stream",
     "text": [
      "---------------------------------------- \n",
      "\n",
      "Train score: \t0.9562289562289562\n",
      "Test score:  \t0.8084677419354839\n",
      "\n",
      "Best params: \t{'nb__alpha': 0.1, 'tvec__max_features': 3000}\n",
      "\n",
      "----------------------------------------\n"
     ]
    }
   ],
   "source": [
    "pipe = Pipeline([\n",
    "                (\"tvec\", TfidfVectorizer(stop_words = stop)),\n",
    "                (\"nb\", MultinomialNB())\n",
    "                ])\n",
    "\n",
    "params = {\n",
    "    \"tvec__max_features\": [3000, 3500],\n",
    "    \n",
    "    \"nb__alpha\": [0.1]\n",
    "}\n",
    "\n",
    "grid = GridSearchCV(pipe, param_grid = params, cv = 5, n_jobs = 1)\n",
    "grid.fit(X_train, y_train)\n",
    "\n",
    "print(\"--\" * 20, \"\\n\")\n",
    "\n",
    "print(f\"Train score: \\t{grid.score(X_train, y_train)}\")\n",
    "print(f\"Test score:  \\t{grid.score(X_test, y_test)}\\n\")\n",
    "\n",
    "print(f\"Best params: \\t{grid.best_params_}\\n\")\n",
    "    \n",
    "print(\"--\" * 20)"
   ]
  },
  {
   "cell_type": "markdown",
   "metadata": {},
   "source": [
    "<a id = \"vec2\"></a>\n",
    "\n",
    "## Further Vectorizer Observations\n",
    "---\n",
    "\n",
    "As I continued to examine the vectors, I began to consider how these vectors imitate a Venn diagram. The words with a higher abolute value are pushed towards the unique bounds of the circles, whereas the words that are common between them populate the overlap between the circles.\n",
    "\n",
    "Operations continued from [Subtracting Vectorizers](#vec).\n",
    "\n",
    "[Back to top](#top)"
   ]
  },
  {
   "cell_type": "code",
   "execution_count": 278,
   "metadata": {
    "scrolled": true
   },
   "outputs": [
    {
     "data": {
      "text/plain": [
       "pathfinder   -192\n",
       "d20pfsrd     -191\n",
       "paizo        -180\n",
       "gm           -174\n",
       "build        -146\n",
       "spell        -132\n",
       "level        -120\n",
       "feat         -116\n",
       "archetype    -105\n",
       "archetypes    -90\n",
       "aonprd        -90\n",
       "classes       -89\n",
       "search        -85\n",
       "summoner      -82\n",
       "combat        -81\n",
       "use           -81\n",
       "alchemist     -79\n",
       "skill         -79\n",
       "evil          -68\n",
       "reddit        -68\n",
       "22            -67\n",
       "sort          -65\n",
       "round         -63\n",
       "per           -60\n",
       "oracle        -60\n",
       "discussion    -59\n",
       "animal        -59\n",
       "flair         -59\n",
       "title         -57\n",
       "itemname      -57\n",
       "             ... \n",
       "drow           42\n",
       "cast           43\n",
       "think          45\n",
       "roll           45\n",
       "without        45\n",
       "new            46\n",
       "saving         47\n",
       "subclass       47\n",
       "rest           48\n",
       "damage         50\n",
       "cleric         50\n",
       "tools          50\n",
       "make           53\n",
       "hit            53\n",
       "sword          54\n",
       "see            56\n",
       "wizard         57\n",
       "pact           60\n",
       "dnd            64\n",
       "artificer      66\n",
       "turn           67\n",
       "bard           70\n",
       "player         70\n",
       "one            71\n",
       "players        73\n",
       "dragon         79\n",
       "character      86\n",
       "5e             89\n",
       "warlock       111\n",
       "dm            222\n",
       "Length: 1000, dtype: int64"
      ]
     },
     "execution_count": 278,
     "metadata": {},
     "output_type": "execute_result"
    }
   ],
   "source": [
    "# Printing out the subtracted vector again\n",
    "\n",
    "vec.sort_values()"
   ]
  },
  {
   "cell_type": "code",
   "execution_count": 582,
   "metadata": {},
   "outputs": [
    {
     "data": {
      "image/png": "[encoded data removed]",
      "text/plain": [
       "<Figure size 864x1440 with 1 Axes>"
      ]
     },
     "metadata": {
      "needs_background": "light"
     },
     "output_type": "display_data"
    }
   ],
   "source": [
    "plt.figure(figsize = (12,20))\n",
    "for i in range(1, 1000, 25):\n",
    "    plt.barh(vec.sort_values().index[i], \n",
    "             vec.sort_values()[i],\n",
    "             color = \"crimson\",\n",
    "             edgecolor = \"k\");\n",
    "    \n",
    "plt.ylabel(\"<--  Pathfinder Words \\n\\n DnD Words  -->\")\n",
    "plt.xlabel(\"Frequency\")\n",
    "plt.title(\"Term Frequency\");\n",
    "\n",
    "plt.savefig(\"../images/term_frequency.png\")"
   ]
  },
  {
   "cell_type": "markdown",
   "metadata": {},
   "source": [
    "> Simple visialization of the subtracted vectorizors. The number of features has been pared down in the interest of readability, but the overall shape of the vectors remains the same.\n"
   ]
  },
  {
   "cell_type": "code",
   "execution_count": 258,
   "metadata": {},
   "outputs": [
    {
     "data": {
      "text/plain": [
       "ago           0\n",
       "built         0\n",
       "cave          0\n",
       "fact          0\n",
       "fit           0\n",
       "grab          0\n",
       "include       0\n",
       "initiative    0\n",
       "killing       0\n",
       "lead          0\n",
       "limited       0\n",
       "low           0\n",
       "multiple      0\n",
       "page          0\n",
       "play          0\n",
       "prepare       0\n",
       "reach         0\n",
       "unless        0\n",
       "dtype: int64"
      ]
     },
     "execution_count": 258,
     "metadata": {},
     "output_type": "execute_result"
    }
   ],
   "source": [
    "# Words that occur an equal amount of times in each dataset;\n",
    "# note that this does not give any information about the \n",
    "# total ocurrences at all. These words are what would \n",
    "# populate the middle section of a Venn diagram.\n",
    "\n",
    "vec[vec == 0]"
   ]
  },
  {
   "cell_type": "code",
   "execution_count": 626,
   "metadata": {
    "scrolled": true
   },
   "outputs": [
    {
     "data": {
      "text/plain": [
       "amp          1374\n",
       "like         1150\n",
       "level        1122\n",
       "just         1049\n",
       "spell         954\n",
       "x200b         914\n",
       "character     890\n",
       "make          733\n",
       "use           691\n",
       "com           684\n",
       "players       659\n",
       "https         653\n",
       "party         652\n",
       "ve            610\n",
       "want          609\n",
       "damage        572\n",
       "game          551\n",
       "know          547\n",
       "time          543\n",
       "campaign      528\n",
       "spells        525\n",
       "don           518\n",
       "new           516\n",
       "good          470\n",
       "magic         464\n",
       "attack        464\n",
       "think         451\n",
       "dm            450\n",
       "really        438\n",
       "weapon        427\n",
       "             ... \n",
       "raw            61\n",
       "mage           61\n",
       "backstory      61\n",
       "lt             61\n",
       "bring          61\n",
       "wrong          61\n",
       "talking        60\n",
       "hope           60\n",
       "reach          60\n",
       "ago            60\n",
       "strong         60\n",
       "easy           60\n",
       "dark           60\n",
       "hunter         60\n",
       "3rd            60\n",
       "eldritch       60\n",
       "outside        60\n",
       "oracle         60\n",
       "lets           60\n",
       "core           60\n",
       "wizards        59\n",
       "usually        59\n",
       "goes           59\n",
       "super          59\n",
       "races          59\n",
       "door           59\n",
       "speed          59\n",
       "npcs           59\n",
       "ran            58\n",
       "break          58\n",
       "Length: 500, dtype: int64"
      ]
     },
     "execution_count": 626,
     "metadata": {},
     "output_type": "execute_result"
    }
   ],
   "source": [
    "# The top words overall. If a word shows up near the top \n",
    "# it is very common but not necessarily more common to \n",
    "# either subreddit. If it is high up but has a value near\n",
    "# zero in the subtracted data set \n",
    "\n",
    "most_common = X_cvec.sum().sort_values(ascending = False)[0:500]\n",
    "most_common"
   ]
  },
  {
   "cell_type": "code",
   "execution_count": 635,
   "metadata": {},
   "outputs": [
    {
     "data": {
      "image/png": "[encoded data removed]",
      "text/plain": [
       "<Figure size 864x1440 with 1 Axes>"
      ]
     },
     "metadata": {
      "needs_background": "light"
     },
     "output_type": "display_data"
    }
   ],
   "source": [
    "plt.figure(figsize = (12,20))\n",
    "for i in range(0, 50, 1):\n",
    "    plt.barh(most_common.sort_values(ascending = False).index[i], \n",
    "             most_common.sort_values(ascending = False)[i],\n",
    "             color = \"crimson\",\n",
    "             edgecolor = \"k\");\n",
    "    \n",
    "plt.ylabel(\"<--  Least Common Words \\n\\n Most Common Words  -->\")\n",
    "plt.xlabel(\"Frequency\")\n",
    "plt.title(\"Term Frequency\")\n",
    "\n",
    "plt.gca().invert_yaxis()\n",
    "plt.gca().invert_xaxis();\n",
    "\n",
    "plt.savefig(\"../images/most_common_term_frequency_untrimmed.png\")"
   ]
  },
  {
   "cell_type": "markdown",
   "metadata": {},
   "source": [
    "> Visualization of the 50 most common words overall. Many of the top words contain little meaning and are added to the stop words list so they will not interfere with the models."
   ]
  },
  {
   "cell_type": "code",
   "execution_count": 368,
   "metadata": {
    "scrolled": true
   },
   "outputs": [
    {
     "data": {
      "text/plain": [
       "{'10',\n",
       " '20',\n",
       " 'able',\n",
       " 'ac',\n",
       " 'access',\n",
       " 'actions',\n",
       " 'almost',\n",
       " 'already',\n",
       " 'also',\n",
       " 'appreciated',\n",
       " 'based',\n",
       " 'better',\n",
       " 'beyond',\n",
       " 'body',\n",
       " 'campaign',\n",
       " 'case',\n",
       " 'change',\n",
       " 'charisma',\n",
       " 'choice',\n",
       " 'city',\n",
       " 'couple',\n",
       " 'course',\n",
       " 'curse',\n",
       " 'dead',\n",
       " 'dex',\n",
       " 'done',\n",
       " 'due',\n",
       " 'either',\n",
       " 'encounters',\n",
       " 'enemies',\n",
       " 'etc',\n",
       " 'example',\n",
       " 'features',\n",
       " 'finally',\n",
       " 'found',\n",
       " 'gain',\n",
       " 'getting',\n",
       " 'giving',\n",
       " 'hands',\n",
       " 'happen',\n",
       " 'head',\n",
       " 'hello',\n",
       " 'however',\n",
       " 'human',\n",
       " 'interesting',\n",
       " 'item',\n",
       " 'kind',\n",
       " 'large',\n",
       " 'less',\n",
       " 'low',\n",
       " 'main',\n",
       " 'maybe',\n",
       " 'mean',\n",
       " 'might',\n",
       " 'monk',\n",
       " 'monster',\n",
       " 'move',\n",
       " 'non',\n",
       " 'number',\n",
       " 'old',\n",
       " 'ones',\n",
       " 'open',\n",
       " 'options',\n",
       " 'others',\n",
       " 'pick',\n",
       " 'place',\n",
       " 'play',\n",
       " 'possible',\n",
       " 'problem',\n",
       " 'put',\n",
       " 'race',\n",
       " 'range',\n",
       " 'rather',\n",
       " 'really',\n",
       " 'right',\n",
       " 'rolls',\n",
       " 'run',\n",
       " 'running',\n",
       " 'said',\n",
       " 'second',\n",
       " 'seems',\n",
       " 'shot',\n",
       " 'similar',\n",
       " 'small',\n",
       " 'start',\n",
       " 'started',\n",
       " 'starting',\n",
       " 'stat',\n",
       " 'stats',\n",
       " 'stop',\n",
       " 'style',\n",
       " 'system',\n",
       " 'target',\n",
       " 'thanks',\n",
       " 'things',\n",
       " 'three',\n",
       " 'town',\n",
       " 'two',\n",
       " 'useful',\n",
       " 'using',\n",
       " 'weapon',\n",
       " 'weapons',\n",
       " 'week',\n",
       " 'wis',\n",
       " 'years'}"
      ]
     },
     "execution_count": 368,
     "metadata": {},
     "output_type": "execute_result"
    }
   ],
   "source": [
    "# Taking the top 500 words and seeing which of them occur \n",
    "# near the middle of the subtracted split. The middle slice\n",
    "# is halved and then added and subtracted from 500 to find \n",
    "# the middle slice. Then the 500 most common words are \n",
    "# compared to the middle slice and words in both are isolated. \n",
    "\n",
    "mid_slice = 300\n",
    "mid_slice /= 2\n",
    "venn_middle = vec.sort_values()[int(500 - mid_slice):int(500 + mid_slice)]\n",
    "venn_stop_words = {word for word in most_common.index if word in venn_middle.index}\n",
    "venn_stop_words"
   ]
  },
  {
   "cell_type": "code",
   "execution_count": 369,
   "metadata": {},
   "outputs": [],
   "source": [
    "# Removing mutually common words from the dataset\n",
    "\n",
    "stop = stop|{\"would\", \"like\", \"one\", \"ve\"}\n",
    "\n",
    "stop = stop|venn_stop_words"
   ]
  },
  {
   "cell_type": "markdown",
   "metadata": {},
   "source": [
    "<a id = \"interp\"></a>\n",
    "\n",
    "## Interpretations\n",
    "---\n",
    "\n",
    "[Back to top](#top)"
   ]
  },
  {
   "cell_type": "code",
   "execution_count": 689,
   "metadata": {},
   "outputs": [],
   "source": [
    "X = df[\"selftext\"]\n",
    "y = df[\"subreddit\"]\n",
    "\n",
    "X_train, X_test, y_train, y_test = train_test_split(X, y,\n",
    "                                                    random_state = 35,\n",
    "                                                    stratify = y)"
   ]
  },
  {
   "cell_type": "code",
   "execution_count": 690,
   "metadata": {},
   "outputs": [
    {
     "name": "stdout",
     "output_type": "stream",
     "text": [
      "---------------------------------------- \n",
      "\n",
      "Train score: \t0.8296296296296296\n",
      "Test score:  \t0.8125\n",
      "\n",
      "Best params: \t{'cvec__max_features': 1200, 'cvec__min_df': 1, 'nb__alpha': 0.1}\n",
      "\n",
      "----------------------------------------\n"
     ]
    }
   ],
   "source": [
    "pipe = Pipeline([\n",
    "                (\"cvec\", CountVectorizer(stop_words = stop)),\n",
    "                (\"nb\", MultinomialNB())\n",
    "                ])\n",
    "\n",
    "params = {\n",
    "    \"cvec__max_features\": [1200],\n",
    "    \"cvec__min_df\": [1],\n",
    "    \n",
    "    \"nb__alpha\": [0.1]\n",
    "}\n",
    "\n",
    "grid = GridSearchCV(pipe, param_grid = params, cv = 5, n_jobs = 1)\n",
    "grid.fit(X_train, y_train)\n",
    "\n",
    "print(\"--\" * 20, \"\\n\")\n",
    "\n",
    "print(f\"Train score: \\t{grid.score(X_train, y_train)}\")\n",
    "print(f\"Test score:  \\t{grid.score(X_test, y_test)}\\n\")\n",
    "\n",
    "print(f\"Best params: \\t{grid.best_params_}\\n\")\n",
    "    \n",
    "print(\"--\" * 20)"
   ]
  },
  {
   "cell_type": "code",
   "execution_count": 691,
   "metadata": {},
   "outputs": [
    {
     "name": "stdout",
     "output_type": "stream",
     "text": [
      "True Negatives:  191\n",
      "False Positives: 57\n",
      "False Negatives: 36\n",
      "True Positives:  212\n"
     ]
    }
   ],
   "source": [
    "predictions = grid.predict(X_test)\n",
    "\n",
    "tn, fp, fn, tp = confusion_matrix(y_test, predictions).ravel()\n",
    "\n",
    "print(\"True Negatives:  %s\" % tn)\n",
    "print(\"False Positives: %s\" % fp)\n",
    "print(\"False Negatives: %s\" % fn)\n",
    "print(\"True Positives:  %s\" % tp)"
   ]
  },
  {
   "cell_type": "markdown",
   "metadata": {},
   "source": [
    "> There are a fair amount of both false positives and false negatives, although there are slightly more false positives. This means that the model is more commonly guessing Pathfinder_RPG when it should be guessing DnDNext, rather than vice versa. I would attribute this to words that are common in both subreddits but are slightly more common in Pathfinder_RPG that are biasing the model towards that subreddit, similar to how the hyperlinks were affecting the scores."
   ]
  },
  {
   "cell_type": "markdown",
   "metadata": {},
   "source": [
    "### Stemming and Lemmatizing the Naive Bayes model\n",
    "---\n",
    "\n",
    "This section is aimed at trying out stemming and lemmatizing each word. This ended up giving me scores that were barely above baseline, so neither of these techniques made it into the presentation."
   ]
  },
  {
   "cell_type": "code",
   "execution_count": 456,
   "metadata": {},
   "outputs": [],
   "source": [
    "X = df[\"selftext\"]\n",
    "y = df[\"subreddit\"]"
   ]
  },
  {
   "cell_type": "code",
   "execution_count": 457,
   "metadata": {},
   "outputs": [],
   "source": [
    "lemmatizer = WordNetLemmatizer()\n",
    "p_stemmer = PorterStemmer()\n",
    "\n",
    "# Code taken from NLP lecture I\n",
    "\n",
    "no_punct = []\n",
    "\n",
    "for i in range(len(X)):\n",
    "# Use regular expressions to do a find-and-replace\n",
    "    no_punct.append(re.sub(\"[^a-zA-Z\\d]\",         # Find everything not a number or digit\n",
    "                           \" \",                   # replace it with a space\n",
    "                           X[i]))                 # The text to search\n",
    "\n",
    "X = pd.Series(no_punct)\n",
    "\n",
    "\n",
    "# Code adapted from https://medium.com/@rnbrown/more-nlp-with-sklearns-countvectorizer-add577a0b8c8,\n",
    "# written by a former DSI student.\n",
    "\n",
    "lemm_corpus = []\n",
    "\n",
    "for i in range(len(X)):\n",
    "    lemm_corpus.append(' '.join([lemmer.lemmatize(word) for word in X[i].split(' ')]))\n",
    "\n",
    "stem_corpus = []\n",
    "\n",
    "for i in range(len(X)):\n",
    "    stem_corpus.append(' '.join([p_stemmer.stem(word) for word in X[i].split(' ')]))"
   ]
  },
  {
   "cell_type": "code",
   "execution_count": 458,
   "metadata": {
    "scrolled": true
   },
   "outputs": [
    {
     "data": {
      "text/plain": [
       "0       new weekli question thread will be automat upd...\n",
       "1       got a pic of your dice  mini  tabl or just som...\n",
       "2       It is an option rule on page 263 of the dmg  I...\n",
       "3       hello   I play D amp D with friend in middl sc...\n",
       "4       they were suppos to level up  becom hero of th...\n",
       "5       can we all just say that DM s  have it rough  ...\n",
       "6       I see a lot of post about class  but what race...\n",
       "7       last game I saw someth that bother me  althoug...\n",
       "8       for me  I think some class should have certain...\n",
       "9       Is the unearth arcana get more subclass  is dn...\n",
       "10      schr dinger s orc  whi fudg dice when you can ...\n",
       "11      I m a bit of a new DM and I thought I would sh...\n",
       "12      5e   psion v1 0   bend the world to the power ...\n",
       "13      So I want to use a crossbow as a rogu with sha...\n",
       "14      eldritch arcana v1 35   fighter sub eldritch w...\n",
       "15      I wa read I think the alexandrian and came acr...\n",
       "16      Hi all   I m play waterdeep dragon heist and t...\n",
       "17      so      we got a updat on the magic the gather...\n",
       "18      I m go through the process of creat a new PC  ...\n",
       "19      play a home brew game as a dragon born alreadi...\n",
       "20                           flavor of the month  symbiot\n",
       "21      Hi   new to the subreddit  I m go to be run a ...\n",
       "22      A number of year ago I play in a friend s path...\n",
       "23      basic question in titl    how differ are they ...\n",
       "24      So  spoiler for storm king s thunder ahead    ...\n",
       "25      what would be an appropri spell level for a sp...\n",
       "26      call all fellow D amp D play mytholog nerd  I ...\n",
       "27       homebrew  companion class  v9  the art of dan...\n",
       "28      got into an argument with someon about overpow...\n",
       "29      Hi all  take a look at these token  I d love t...\n",
       "                              ...                        \n",
       "1951     occultist archetyp howev I m open to all option \n",
       "1952    hey everyon I am go into an evil campaign set ...\n",
       "1953    with all the planar stuff that out there i wa ...\n",
       "1954    hello everyon   I have been play pathfind for ...\n",
       "1955    the setup is that thi wa alway a realli sandbo...\n",
       "1956    doe cold resist protect against common cold or...\n",
       "1957      psychic lich  http   aonprd com monsterdispl...\n",
       "1958    might be a stupid question  but can you use fe...\n",
       "1959    So let s say I have a friend  who may have thr...\n",
       "1960    If I use a maxim firebal  and then use a hero ...\n",
       "1961    cole  if your read thi post  shoo    A brawler...\n",
       "1962       just don t think about the gold limit per lvl \n",
       "1963    today s spell is  web shelter  http   aonprd c...\n",
       "1964    player want more defin flirt mechan  so I came...\n",
       "1965    I m tri to make a fiend of possess for 3 p gam...\n",
       "1966    So  my main group is myself and some friend fr...\n",
       "1967    essenti  look to make a build  and look for he...\n",
       "1968    hey  I wa wonder if anyon had ani idea of how ...\n",
       "1969    As the titl impli  I m go to be play a gestalt...\n",
       "1970    So I wa look at  start charact at higher level...\n",
       "1971    I recent download the master summon app and as...\n",
       "1972    thi is someth I don t hear about too terribl o...\n",
       "1973    Hi  friendli friend  I m play a home brew game...\n",
       "1974    hey folk  I ve been sit on the primev thule ca...\n",
       "1975    In anoth thread  a convers about horrifi thing...\n",
       "1976    I ve been dming for almost a year now  and whi...\n",
       "1977    Hi there  hope you re all have a good night   ...\n",
       "1978    I m about to run a  west march  http   arsludi...\n",
       "1979     if someon is  like a druid who is be sneaki g...\n",
       "1980    I m look into play a demon dancer skald  but a...\n",
       "Length: 1981, dtype: object"
      ]
     },
     "execution_count": 458,
     "metadata": {},
     "output_type": "execute_result"
    }
   ],
   "source": [
    "pd.Series(stem_corpus)"
   ]
  },
  {
   "cell_type": "code",
   "execution_count": 463,
   "metadata": {},
   "outputs": [],
   "source": [
    "X_train, X_test, y_train, y_test = train_test_split(pd.Series(stem_corpus), \n",
    "                                                    y,\n",
    "                                                    random_state = 35,\n",
    "                                                    stratify = y)"
   ]
  },
  {
   "cell_type": "code",
   "execution_count": 464,
   "metadata": {},
   "outputs": [],
   "source": [
    "cv = CountVectorizer()\n",
    "\n",
    "X_train_vec = pd.DataFrame(cvec.fit_transform(X_train).todense(), \n",
    "                            columns = cvec.get_feature_names())\n",
    "\n",
    "X_test_vec = pd.DataFrame(cvec.fit_transform(X_test).todense(), \n",
    "                            columns = cvec.get_feature_names())"
   ]
  },
  {
   "cell_type": "code",
   "execution_count": 465,
   "metadata": {
    "scrolled": true
   },
   "outputs": [
    {
     "data": {
      "text/plain": [
       "beat              24\n",
       "sun               24\n",
       "mortal            24\n",
       "store             24\n",
       "naga              24\n",
       "neg               24\n",
       "gp                24\n",
       "shaman            24\n",
       "send              24\n",
       "sell              24\n",
       "select            24\n",
       "onto              24\n",
       "oppon             24\n",
       "dodg              24\n",
       "particularli      24\n",
       "dual              24\n",
       "galleri           24\n",
       "purpos            24\n",
       "publish           24\n",
       "properti          24\n",
       "present           24\n",
       "fear              24\n",
       "absolut           24\n",
       "tall              24\n",
       "box               24\n",
       "9th               24\n",
       "trigger           24\n",
       "ultim             24\n",
       "hexblad           24\n",
       "charm             24\n",
       "                ... \n",
       "feat             384\n",
       "dm               388\n",
       "could            396\n",
       "new              398\n",
       "take             428\n",
       "thing            452\n",
       "damag            462\n",
       "know             469\n",
       "magic            478\n",
       "game             481\n",
       "time             484\n",
       "class            493\n",
       "parti            496\n",
       "think            528\n",
       "attack           536\n",
       "go               549\n",
       "ha               579\n",
       "http             603\n",
       "hi               627\n",
       "want             682\n",
       "ani              719\n",
       "get              722\n",
       "player           763\n",
       "make             851\n",
       "charact          876\n",
       "wa               930\n",
       "use             1025\n",
       "level           1075\n",
       "spell           1103\n",
       "thi             1834\n",
       "Length: 1000, dtype: int64"
      ]
     },
     "execution_count": 465,
     "metadata": {},
     "output_type": "execute_result"
    }
   ],
   "source": [
    "X_train_vec.sum().sort_values()"
   ]
  },
  {
   "cell_type": "code",
   "execution_count": 466,
   "metadata": {},
   "outputs": [
    {
     "name": "stdout",
     "output_type": "stream",
     "text": [
      "Naive Bayes Model Training Score:\t0.8249158249158249\n",
      "Naive Bayes Model Testing Score:\t0.5604838709677419\n"
     ]
    }
   ],
   "source": [
    "nb = MultinomialNB()\n",
    "nb.fit(X_train_vec, y_train)\n",
    "\n",
    "print(f\"Naive Bayes Model Training Score:\\t{nb.score(X_train_vec, y_train)}\")\n",
    "print(f\"Naive Bayes Model Testing Score:\\t{nb.score(X_test_vec, y_test)}\")"
   ]
  },
  {
   "cell_type": "code",
   "execution_count": 435,
   "metadata": {},
   "outputs": [
    {
     "data": {
      "text/plain": [
       "0.7595574677789443"
      ]
     },
     "execution_count": 435,
     "metadata": {},
     "output_type": "execute_result"
    }
   ],
   "source": [
    "cross_val_score(nb, X_train_cvec, y_train, cv = 5).mean()"
   ]
  },
  {
   "cell_type": "markdown",
   "metadata": {},
   "source": [
    "<a id = \"fin\"></a>\n",
    "\n",
    "## Final Testing\n",
    "---\n",
    "\n",
    "This sections contains the final model and its subsequent interpretations used in the presentation. First, the model is fit and scored against the data I had been using all week. Then, it is scored against the testing data acquired the night before the presentation, from the same subreddit as the training data. Finally, it is scored against 500 posts from different, but similar, subreddits to see how it generalizes to new data. While different subreddits, the topics discussed are largely the same, and I wanted to see if my model could distinguish between the underlying topics.\n",
    "\n",
    "[Back to top](#top)"
   ]
  },
  {
   "cell_type": "code",
   "execution_count": 657,
   "metadata": {},
   "outputs": [],
   "source": [
    "X = df[\"selftext\"]\n",
    "y = df[\"subreddit\"]"
   ]
  },
  {
   "cell_type": "code",
   "execution_count": 658,
   "metadata": {},
   "outputs": [
    {
     "name": "stdout",
     "output_type": "stream",
     "text": [
      "Naive Bayes Model Score:  \t0.8359414437152953\n",
      "Naive Bayes Model CV Score:\t0.7799150192097295\n"
     ]
    }
   ],
   "source": [
    "# Create on final model using the best features found in\n",
    "# the optimization section. This model will be used to \n",
    "# make predictions on the unseen data in the testing\n",
    "# and alternate datasets. \n",
    "\n",
    "cvec = CountVectorizer(stop_words = stop,\n",
    "                       max_features = 1200)\n",
    "\n",
    "X_vec = pd.DataFrame(cvec.fit_transform(X).todense(), \n",
    "                     columns = cvec.get_feature_names())\n",
    "\n",
    "nb = MultinomialNB(alpha = 0.1)\n",
    "\n",
    "nb.fit(X_vec, y)\n",
    "\n",
    "print(f\"Naive Bayes Model Score:  \\t{nb.score(X_vec, y)}\")\n",
    "print(f\"Naive Bayes Model CV Score:\\t{cross_val_score(nb, X_vec, y, cv = 5).mean()}\")"
   ]
  },
  {
   "cell_type": "markdown",
   "metadata": {},
   "source": [
    "> Baseline score of 83.6% and a CV score of 78%. This model is fit against all training data in order to increase the sample size and hopefully reduce bias."
   ]
  },
  {
   "cell_type": "code",
   "execution_count": 659,
   "metadata": {},
   "outputs": [
    {
     "name": "stdout",
     "output_type": "stream",
     "text": [
      "Naive Bayes Model Testing Score:  \t0.8237051792828686\n",
      "Naive Bayes Model Testing CV Score:\t0.740029702970297\n"
     ]
    }
   ],
   "source": [
    "X_test = df_test[\"selftext\"]\n",
    "y_test = df_test[\"subreddit\"]\n",
    "\n",
    "X_test_vec = pd.DataFrame(cvec.transform(X_test).todense(), \n",
    "                     columns = cvec.get_feature_names())\n",
    "\n",
    "print(f\"Naive Bayes Model Testing Score:  \\t{nb.score(X_test_vec, y_test)}\")\n",
    "print(f\"Naive Bayes Model Testing CV Score:\\t{cross_val_score(nb, X_test_vec, y_test, cv = 5).mean()}\")"
   ]
  },
  {
   "cell_type": "markdown",
   "metadata": {},
   "source": [
    "> Test score of 82.3% and a CV score of 74%. While the cross validation score is slightly lower, both scores are very similar to the baseline score. This was encouraging to see that the model appeared to have little variance. "
   ]
  },
  {
   "cell_type": "code",
   "execution_count": 660,
   "metadata": {},
   "outputs": [
    {
     "name": "stdout",
     "output_type": "stream",
     "text": [
      "Naive Bayes Model Testing Score:  \t0.6889332003988036\n",
      "Naive Bayes Model Testing CV Score:\t0.8574810107876459\n"
     ]
    }
   ],
   "source": [
    "X_alt = alt[\"selftext\"]\n",
    "y_alt = alt[\"subreddit\"]\n",
    "\n",
    "X_alt_vec = pd.DataFrame(cvec.transform(X_alt).todense(), \n",
    "                     columns = cvec.get_feature_names())\n",
    "\n",
    "print(f\"Naive Bayes Model Testing Score:  \\t{nb.score(X_alt_vec, y_alt)}\")\n",
    "print(f\"Naive Bayes Model Testing CV Score:\\t{cross_val_score(nb, X_alt_vec, y_alt, cv = 5).mean()}\")"
   ]
  },
  {
   "cell_type": "markdown",
   "metadata": {},
   "source": [
    "> While a score of 68.9% might not seem terribly high, this is encouraging because it is closer to the model baseline than the baseline of the whole data set (50%). This is especially encouraging given the scores discussed further below. A note on the CV score, I'm not sure why it is so high. Lacking any explanation, it is omitted from the presentation."
   ]
  },
  {
   "cell_type": "code",
   "execution_count": 661,
   "metadata": {},
   "outputs": [
    {
     "data": {
      "text/plain": [
       "array([0.84158416, 0.8358209 , 0.82      , 0.915     , 0.875     ])"
      ]
     },
     "execution_count": 661,
     "metadata": {},
     "output_type": "execute_result"
    }
   ],
   "source": [
    "# Trying to access a more granular look at the CV\n",
    "# scores to see why it is so much higher than \n",
    "# not only the accuracy score, but also the other\n",
    "# CV scores from other models as well.\n",
    "\n",
    "cross_val_score(nb, X_alt_vec, y_alt, cv = 5)"
   ]
  },
  {
   "cell_type": "code",
   "execution_count": 662,
   "metadata": {},
   "outputs": [
    {
     "name": "stdout",
     "output_type": "stream",
     "text": [
      "Naive Bayes Model Testing Score:  \t0.5523429710867398\n",
      "Naive Bayes Model Testing CV Score:\t0.8524859859120241\n"
     ]
    }
   ],
   "source": [
    "# Fitting the count vectorizer with regular\n",
    "# english stop words to demonstrate the effects\n",
    "# had I not removed the common stop words.\n",
    "\n",
    "X_alt = alt[\"selftext\"]\n",
    "y_alt = alt[\"subreddit\"]\n",
    "\n",
    "cvec = CountVectorizer(stop_words = \"english\",\n",
    "                       max_features = 1200)\n",
    "\n",
    "X_vec = pd.DataFrame(cvec.fit_transform(X).todense(), \n",
    "                     columns = cvec.get_feature_names())\n",
    "\n",
    "X_alt_vec = pd.DataFrame(cvec.transform(X_alt).todense(), \n",
    "                     columns = cvec.get_feature_names())\n",
    "\n",
    "print(f\"Naive Bayes Model Testing Score:  \\t{nb.score(X_alt_vec, y_alt)}\")\n",
    "print(f\"Naive Bayes Model Testing CV Score:\\t{cross_val_score(nb, X_alt_vec, y_alt, cv = 5).mean()}\")"
   ]
  },
  {
   "cell_type": "markdown",
   "metadata": {},
   "source": [
    ">  Given that the accuracy score here is just barely above baseline at 55.2%, it is fair to say that removing the common words has had an effect."
   ]
  },
  {
   "cell_type": "code",
   "execution_count": 663,
   "metadata": {},
   "outputs": [
    {
     "data": {
      "text/plain": [
       "array([0.84158416, 0.83084577, 0.805     , 0.905     , 0.88      ])"
      ]
     },
     "execution_count": 663,
     "metadata": {},
     "output_type": "execute_result"
    }
   ],
   "source": [
    "cross_val_score(nb, X_alt_vec, y_alt, cv = 5)"
   ]
  },
  {
   "cell_type": "code",
   "execution_count": 664,
   "metadata": {},
   "outputs": [
    {
     "name": "stdout",
     "output_type": "stream",
     "text": [
      "Naive Bayes Model Testing Score:  \t0.419740777666999\n",
      "Naive Bayes Model Testing CV Score:\t0.8544711097975469\n"
     ]
    }
   ],
   "source": [
    "# Finally, fitting a Count vectorizer with no\n",
    "# stop words at all. Mostly just for my own \n",
    "# personal observations, as this was not\n",
    "# featured in the presentation.\n",
    "\n",
    "\n",
    "X_alt = alt[\"selftext\"]\n",
    "y_alt = alt[\"subreddit\"]\n",
    "\n",
    "cvec = CountVectorizer(stop_words = None,\n",
    "                       max_features = 1200)\n",
    "\n",
    "X_vec = pd.DataFrame(cvec.fit_transform(X).todense(), \n",
    "                     columns = cvec.get_feature_names())\n",
    "\n",
    "X_alt_vec = pd.DataFrame(cvec.transform(X_alt).todense(), \n",
    "                     columns = cvec.get_feature_names())\n",
    "\n",
    "print(f\"Naive Bayes Model Testing Score:  \\t{nb.score(X_alt_vec, y_alt)}\")\n",
    "print(f\"Naive Bayes Model Testing CV Score:\\t{cross_val_score(nb, X_alt_vec, y_alt, cv = 5).mean()}\")"
   ]
  },
  {
   "cell_type": "code",
   "execution_count": 665,
   "metadata": {},
   "outputs": [
    {
     "data": {
      "text/plain": [
       "array([0.84653465, 0.8358209 , 0.825     , 0.91      , 0.855     ])"
      ]
     },
     "execution_count": 665,
     "metadata": {},
     "output_type": "execute_result"
    }
   ],
   "source": [
    "cross_val_score(nb, X_alt_vec, y_alt, cv = 5)"
   ]
  },
  {
   "cell_type": "code",
   "execution_count": 683,
   "metadata": {},
   "outputs": [
    {
     "data": {
      "text/html": [
       "<div>\n",
       "<style scoped>\n",
       "    .dataframe tbody tr th:only-of-type {\n",
       "        vertical-align: middle;\n",
       "    }\n",
       "\n",
       "    .dataframe tbody tr th {\n",
       "        vertical-align: top;\n",
       "    }\n",
       "\n",
       "    .dataframe thead th {\n",
       "        text-align: right;\n",
       "    }\n",
       "</style>\n",
       "<table border=\"1\" class=\"dataframe\">\n",
       "  <thead>\n",
       "    <tr style=\"text-align: right;\">\n",
       "      <th></th>\n",
       "      <th>word</th>\n",
       "      <th>coefficient</th>\n",
       "    </tr>\n",
       "  </thead>\n",
       "  <tbody>\n",
       "    <tr>\n",
       "      <th>1118</th>\n",
       "      <td>usp</td>\n",
       "      <td>-10.7519</td>\n",
       "    </tr>\n",
       "    <tr>\n",
       "      <th>112</th>\n",
       "      <td>attempt</td>\n",
       "      <td>-10.7519</td>\n",
       "    </tr>\n",
       "    <tr>\n",
       "      <th>51</th>\n",
       "      <td>against</td>\n",
       "      <td>-10.7519</td>\n",
       "    </tr>\n",
       "    <tr>\n",
       "      <th>304</th>\n",
       "      <td>different</td>\n",
       "      <td>-10.7519</td>\n",
       "    </tr>\n",
       "    <tr>\n",
       "      <th>836</th>\n",
       "      <td>prepared</td>\n",
       "      <td>-10.7519</td>\n",
       "    </tr>\n",
       "    <tr>\n",
       "      <th>624</th>\n",
       "      <td>leaving</td>\n",
       "      <td>-10.7519</td>\n",
       "    </tr>\n",
       "    <tr>\n",
       "      <th>598</th>\n",
       "      <td>ki</td>\n",
       "      <td>-10.7519</td>\n",
       "    </tr>\n",
       "    <tr>\n",
       "      <th>1027</th>\n",
       "      <td>tactics</td>\n",
       "      <td>-10.7519</td>\n",
       "    </tr>\n",
       "    <tr>\n",
       "      <th>585</th>\n",
       "      <td>isn</td>\n",
       "      <td>-10.7519</td>\n",
       "    </tr>\n",
       "    <tr>\n",
       "      <th>1151</th>\n",
       "      <td>what</td>\n",
       "      <td>-10.7519</td>\n",
       "    </tr>\n",
       "    <tr>\n",
       "      <th>74</th>\n",
       "      <td>and</td>\n",
       "      <td>-10.7519</td>\n",
       "    </tr>\n",
       "    <tr>\n",
       "      <th>75</th>\n",
       "      <td>animal</td>\n",
       "      <td>-10.7519</td>\n",
       "    </tr>\n",
       "    <tr>\n",
       "      <th>740</th>\n",
       "      <td>no</td>\n",
       "      <td>-10.7519</td>\n",
       "    </tr>\n",
       "    <tr>\n",
       "      <th>19</th>\n",
       "      <td>3a</td>\n",
       "      <td>-10.7519</td>\n",
       "    </tr>\n",
       "    <tr>\n",
       "      <th>84</th>\n",
       "      <td>ap</td>\n",
       "      <td>-10.7519</td>\n",
       "    </tr>\n",
       "    <tr>\n",
       "      <th>131</th>\n",
       "      <td>battle</td>\n",
       "      <td>-10.7519</td>\n",
       "    </tr>\n",
       "    <tr>\n",
       "      <th>677</th>\n",
       "      <td>map</td>\n",
       "      <td>-10.7519</td>\n",
       "    </tr>\n",
       "    <tr>\n",
       "      <th>151</th>\n",
       "      <td>between</td>\n",
       "      <td>-10.7519</td>\n",
       "    </tr>\n",
       "    <tr>\n",
       "      <th>774</th>\n",
       "      <td>option</td>\n",
       "      <td>-10.7519</td>\n",
       "    </tr>\n",
       "    <tr>\n",
       "      <th>1080</th>\n",
       "      <td>topics</td>\n",
       "      <td>-10.7519</td>\n",
       "    </tr>\n",
       "    <tr>\n",
       "      <th>781</th>\n",
       "      <td>other</td>\n",
       "      <td>-10.7519</td>\n",
       "    </tr>\n",
       "    <tr>\n",
       "      <th>437</th>\n",
       "      <td>form</td>\n",
       "      <td>-10.4795</td>\n",
       "    </tr>\n",
       "    <tr>\n",
       "      <th>140</th>\n",
       "      <td>before</td>\n",
       "      <td>-10.3318</td>\n",
       "    </tr>\n",
       "    <tr>\n",
       "      <th>161</th>\n",
       "      <td>bonus</td>\n",
       "      <td>-10.2921</td>\n",
       "    </tr>\n",
       "    <tr>\n",
       "      <th>720</th>\n",
       "      <td>moving</td>\n",
       "      <td>-10.1832</td>\n",
       "    </tr>\n",
       "    <tr>\n",
       "      <th>517</th>\n",
       "      <td>healer</td>\n",
       "      <td>-10.0046</td>\n",
       "    </tr>\n",
       "    <tr>\n",
       "      <th>1182</th>\n",
       "      <td>works</td>\n",
       "      <td>-9.94329</td>\n",
       "    </tr>\n",
       "    <tr>\n",
       "      <th>710</th>\n",
       "      <td>monster</td>\n",
       "      <td>-9.73134</td>\n",
       "    </tr>\n",
       "    <tr>\n",
       "      <th>216</th>\n",
       "      <td>choice</td>\n",
       "      <td>-9.67595</td>\n",
       "    </tr>\n",
       "    <tr>\n",
       "      <th>305</th>\n",
       "      <td>difficult</td>\n",
       "      <td>-9.52248</td>\n",
       "    </tr>\n",
       "    <tr>\n",
       "      <th>1088</th>\n",
       "      <td>trap</td>\n",
       "      <td>-9.5154</td>\n",
       "    </tr>\n",
       "    <tr>\n",
       "      <th>948</th>\n",
       "      <td>simple</td>\n",
       "      <td>-9.50946</td>\n",
       "    </tr>\n",
       "    <tr>\n",
       "      <th>927</th>\n",
       "      <td>sense</td>\n",
       "      <td>-9.45424</td>\n",
       "    </tr>\n",
       "    <tr>\n",
       "      <th>1142</th>\n",
       "      <td>weapon</td>\n",
       "      <td>-9.41142</td>\n",
       "    </tr>\n",
       "    <tr>\n",
       "      <th>1141</th>\n",
       "      <td>we</td>\n",
       "      <td>-9.26882</td>\n",
       "    </tr>\n",
       "    <tr>\n",
       "      <th>274</th>\n",
       "      <td>d20pfsrd</td>\n",
       "      <td>-9.21055</td>\n",
       "    </tr>\n",
       "    <tr>\n",
       "      <th>352</th>\n",
       "      <td>elf</td>\n",
       "      <td>-9.20898</td>\n",
       "    </tr>\n",
       "    <tr>\n",
       "      <th>722</th>\n",
       "      <td>multiple</td>\n",
       "      <td>-9.19188</td>\n",
       "    </tr>\n",
       "    <tr>\n",
       "      <th>1035</th>\n",
       "      <td>target</td>\n",
       "      <td>-9.11719</td>\n",
       "    </tr>\n",
       "    <tr>\n",
       "      <th>481</th>\n",
       "      <td>got</td>\n",
       "      <td>-9.05025</td>\n",
       "    </tr>\n",
       "    <tr>\n",
       "      <th>806</th>\n",
       "      <td>perception</td>\n",
       "      <td>-9.02061</td>\n",
       "    </tr>\n",
       "    <tr>\n",
       "      <th>577</th>\n",
       "      <td>inspiration</td>\n",
       "      <td>-8.99797</td>\n",
       "    </tr>\n",
       "    <tr>\n",
       "      <th>171</th>\n",
       "      <td>broken</td>\n",
       "      <td>-8.94389</td>\n",
       "    </tr>\n",
       "    <tr>\n",
       "      <th>267</th>\n",
       "      <td>critical</td>\n",
       "      <td>-8.92644</td>\n",
       "    </tr>\n",
       "    <tr>\n",
       "      <th>791</th>\n",
       "      <td>paizo</td>\n",
       "      <td>-8.90426</td>\n",
       "    </tr>\n",
       "    <tr>\n",
       "      <th>697</th>\n",
       "      <td>might</td>\n",
       "      <td>-8.87326</td>\n",
       "    </tr>\n",
       "    <tr>\n",
       "      <th>150</th>\n",
       "      <td>better</td>\n",
       "      <td>-8.86806</td>\n",
       "    </tr>\n",
       "    <tr>\n",
       "      <th>143</th>\n",
       "      <td>behind</td>\n",
       "      <td>-8.82734</td>\n",
       "    </tr>\n",
       "    <tr>\n",
       "      <th>182</th>\n",
       "      <td>called</td>\n",
       "      <td>-8.81326</td>\n",
       "    </tr>\n",
       "    <tr>\n",
       "      <th>160</th>\n",
       "      <td>body</td>\n",
       "      <td>-8.80849</td>\n",
       "    </tr>\n",
       "  </tbody>\n",
       "</table>\n",
       "</div>"
      ],
      "text/plain": [
       "             word coefficient\n",
       "1118          usp    -10.7519\n",
       "112       attempt    -10.7519\n",
       "51        against    -10.7519\n",
       "304     different    -10.7519\n",
       "836      prepared    -10.7519\n",
       "624       leaving    -10.7519\n",
       "598            ki    -10.7519\n",
       "1027      tactics    -10.7519\n",
       "585           isn    -10.7519\n",
       "1151         what    -10.7519\n",
       "74            and    -10.7519\n",
       "75         animal    -10.7519\n",
       "740            no    -10.7519\n",
       "19             3a    -10.7519\n",
       "84             ap    -10.7519\n",
       "131        battle    -10.7519\n",
       "677           map    -10.7519\n",
       "151       between    -10.7519\n",
       "774        option    -10.7519\n",
       "1080       topics    -10.7519\n",
       "781         other    -10.7519\n",
       "437          form    -10.4795\n",
       "140        before    -10.3318\n",
       "161         bonus    -10.2921\n",
       "720        moving    -10.1832\n",
       "517        healer    -10.0046\n",
       "1182        works    -9.94329\n",
       "710       monster    -9.73134\n",
       "216        choice    -9.67595\n",
       "305     difficult    -9.52248\n",
       "1088         trap     -9.5154\n",
       "948        simple    -9.50946\n",
       "927         sense    -9.45424\n",
       "1142       weapon    -9.41142\n",
       "1141           we    -9.26882\n",
       "274      d20pfsrd    -9.21055\n",
       "352           elf    -9.20898\n",
       "722      multiple    -9.19188\n",
       "1035       target    -9.11719\n",
       "481           got    -9.05025\n",
       "806    perception    -9.02061\n",
       "577   inspiration    -8.99797\n",
       "171        broken    -8.94389\n",
       "267      critical    -8.92644\n",
       "791         paizo    -8.90426\n",
       "697         might    -8.87326\n",
       "150        better    -8.86806\n",
       "143        behind    -8.82734\n",
       "182        called    -8.81326\n",
       "160          body    -8.80849"
      ]
     },
     "execution_count": 683,
     "metadata": {},
     "output_type": "execute_result"
    }
   ],
   "source": [
    "# list(nb.coef_[0])\n",
    "coefs = pd.DataFrame([cvec.get_feature_names(), nb.coef_[0]]).T\n",
    "coefs = coefs.rename(columns = {0:\"word\", 1:\"coefficient\"})\n",
    "coefs.sort_values(by = \"coefficient\")[:50]"
   ]
  },
  {
   "cell_type": "markdown",
   "metadata": {},
   "source": [
    "> The top 50 coefficients from the Naive Bayes model. It probably would have been a good idea to examine these earlier on but I was more focused on vectorizers and hyperparameter tuning at the time. Just looking at these it is fairly easy to see that there are more useless words that could have been trimmed out. "
   ]
  },
  {
   "cell_type": "code",
   "execution_count": 684,
   "metadata": {},
   "outputs": [
    {
     "name": "stdout",
     "output_type": "stream",
     "text": [
      "Naive Bayes Model Score:  \t0.8849066128218072\n",
      "Naive Bayes Model CV Score:\t0.7743620079892121\n"
     ]
    }
   ],
   "source": [
    "# Just one test model using a TF/IDF to see\n",
    "# if the accuracy score changes significantly.\n",
    "\n",
    "\n",
    "tvec = TfidfVectorizer(stop_words = stop,\n",
    "                       max_features = 1200)\n",
    "\n",
    "X_vec = pd.DataFrame(tvec.fit_transform(X).todense(), \n",
    "                     columns = cvec.get_feature_names())\n",
    "\n",
    "nb = MultinomialNB(alpha = 0.1)\n",
    "\n",
    "nb.fit(X_vec, y)\n",
    "\n",
    "print(f\"Naive Bayes Model Score:  \\t{nb.score(X_vec, y)}\")\n",
    "print(f\"Naive Bayes Model CV Score:\\t{cross_val_score(nb, X_vec, y, cv = 5).mean()}\")"
   ]
  },
  {
   "cell_type": "markdown",
   "metadata": {},
   "source": [
    "> The score is better than baseline, but the CV score is just as bad, if not worse, meaning there is higher variance from the TF/IDF vectorizer."
   ]
  },
  {
   "cell_type": "markdown",
   "metadata": {},
   "source": [
    "---\n",
    "[Back to top](#top)"
   ]
  }
 ],
 "metadata": {
  "kernelspec": {
   "display_name": "Python 3",
   "language": "python",
   "name": "python3"
  },
  "language_info": {
   "codemirror_mode": {
    "name": "ipython",
    "version": 3
   },
   "file_extension": ".py",
   "mimetype": "text/x-python",
   "name": "python",
   "nbconvert_exporter": "python",
   "pygments_lexer": "ipython3",
   "version": "3.6.8"
  }
 },
 "nbformat": 4,
 "nbformat_minor": 2
}

{
 "cells": [
  {
   "cell_type": "markdown",
   "metadata": {},
   "source": [
    "<a id=\"top\"></a>\n",
    "\n",
    "# Data Cleaning and EDA\n",
    "\n",
    "---\n",
    "\n",
    "This post is where the data cleaning and basic EDA takes place. The data scraped from reddit is already fairly clean and, lacking much numerical data, EDA and visualizations are quite brief as well. Taking note from last project, the training and testing data is concatenated into one dataframe and cleaned all at once to facilitate the process and increase readability. The dataframes are split apart in the Models notebook. \n",
    "\n",
    "[comment]: <> (MARKDOWN COMMENT AAAAAAAAAAAAAAAAA)\n",
    "\n",
    "\n",
    "#### This Notebook\n",
    "- [Cleaning](#clean)\n",
    "- [Visualizations](#viz)\n",
    "\n",
    "#### Other Notebooks\n",
    "- [Data Gathering](gathering.ipynb)\n",
    "- [Models](models.ipynb)"
   ]
  },
  {
   "cell_type": "markdown",
   "metadata": {},
   "source": [
    "### Importing\n",
    "---"
   ]
  },
  {
   "cell_type": "code",
   "execution_count": 92,
   "metadata": {},
   "outputs": [],
   "source": [
    "import pandas as pd\n",
    "import numpy as np\n",
    "import matplotlib.pyplot as plt\n",
    "import seaborn as sns\n",
    "\n",
    "%matplotlib inline"
   ]
  },
  {
   "cell_type": "code",
   "execution_count": 93,
   "metadata": {},
   "outputs": [],
   "source": [
    "# training set\n",
    "raw_dnd = pd.read_csv(\"../data/dnd_raw.csv\")\n",
    "raw_path = pd.read_csv(\"../data/path_raw.csv\")\n",
    "\n",
    "# testing set\n",
    "raw_dnd_test = pd.read_csv(\"../data/dnd_test_raw.csv\")\n",
    "raw_path_test = pd.read_csv(\"../data/path_test_raw.csv\")\n",
    "\n",
    "# alternate set\n",
    "raw_dnd_alt = pd.read_csv(\"../data/dnd_alt_raw.csv\")\n",
    "raw_path_alt = pd.read_csv(\"../data/path_alt_raw.csv\")"
   ]
  },
  {
   "cell_type": "code",
   "execution_count": 94,
   "metadata": {},
   "outputs": [
    {
     "data": {
      "text/html": [
       "<div>\n",
       "<style scoped>\n",
       "    .dataframe tbody tr th:only-of-type {\n",
       "        vertical-align: middle;\n",
       "    }\n",
       "\n",
       "    .dataframe tbody tr th {\n",
       "        vertical-align: top;\n",
       "    }\n",
       "\n",
       "    .dataframe thead th {\n",
       "        text-align: right;\n",
       "    }\n",
       "</style>\n",
       "<table border=\"1\" class=\"dataframe\">\n",
       "  <thead>\n",
       "    <tr style=\"text-align: right;\">\n",
       "      <th></th>\n",
       "      <th>approved_at_utc</th>\n",
       "      <th>approved_by</th>\n",
       "      <th>archived</th>\n",
       "      <th>author</th>\n",
       "      <th>author_cakeday</th>\n",
       "      <th>author_flair_background_color</th>\n",
       "      <th>author_flair_css_class</th>\n",
       "      <th>author_flair_richtext</th>\n",
       "      <th>author_flair_template_id</th>\n",
       "      <th>author_flair_text</th>\n",
       "      <th>...</th>\n",
       "      <th>thumbnail_height</th>\n",
       "      <th>thumbnail_width</th>\n",
       "      <th>title</th>\n",
       "      <th>ups</th>\n",
       "      <th>url</th>\n",
       "      <th>user_reports</th>\n",
       "      <th>view_count</th>\n",
       "      <th>visited</th>\n",
       "      <th>whitelist_status</th>\n",
       "      <th>wls</th>\n",
       "    </tr>\n",
       "  </thead>\n",
       "  <tbody>\n",
       "    <tr>\n",
       "      <th>0</th>\n",
       "      <td>NaN</td>\n",
       "      <td>NaN</td>\n",
       "      <td>False</td>\n",
       "      <td>AutoModerator</td>\n",
       "      <td>NaN</td>\n",
       "      <td>NaN</td>\n",
       "      <td>NaN</td>\n",
       "      <td>[]</td>\n",
       "      <td>NaN</td>\n",
       "      <td>NaN</td>\n",
       "      <td>...</td>\n",
       "      <td>NaN</td>\n",
       "      <td>NaN</td>\n",
       "      <td>Weekly Question Thread: Ask questions here Mar...</td>\n",
       "      <td>17</td>\n",
       "      <td>https://www.reddit.com/r/dndnext/comments/b5bv...</td>\n",
       "      <td>[]</td>\n",
       "      <td>NaN</td>\n",
       "      <td>False</td>\n",
       "      <td>all_ads</td>\n",
       "      <td>6</td>\n",
       "    </tr>\n",
       "    <tr>\n",
       "      <th>1</th>\n",
       "      <td>NaN</td>\n",
       "      <td>NaN</td>\n",
       "      <td>False</td>\n",
       "      <td>AutoModerator</td>\n",
       "      <td>NaN</td>\n",
       "      <td>NaN</td>\n",
       "      <td>NaN</td>\n",
       "      <td>[]</td>\n",
       "      <td>NaN</td>\n",
       "      <td>NaN</td>\n",
       "      <td>...</td>\n",
       "      <td>NaN</td>\n",
       "      <td>NaN</td>\n",
       "      <td>Snapshots: post pics! March 30, 2019</td>\n",
       "      <td>6</td>\n",
       "      <td>https://www.reddit.com/r/dndnext/comments/b7cb...</td>\n",
       "      <td>[]</td>\n",
       "      <td>NaN</td>\n",
       "      <td>False</td>\n",
       "      <td>all_ads</td>\n",
       "      <td>6</td>\n",
       "    </tr>\n",
       "  </tbody>\n",
       "</table>\n",
       "<p>2 rows × 100 columns</p>\n",
       "</div>"
      ],
      "text/plain": [
       "   approved_at_utc  approved_by  archived         author author_cakeday  \\\n",
       "0              NaN          NaN     False  AutoModerator            NaN   \n",
       "1              NaN          NaN     False  AutoModerator            NaN   \n",
       "\n",
       "   author_flair_background_color author_flair_css_class author_flair_richtext  \\\n",
       "0                            NaN                    NaN                    []   \n",
       "1                            NaN                    NaN                    []   \n",
       "\n",
       "  author_flair_template_id author_flair_text  ... thumbnail_height  \\\n",
       "0                      NaN               NaN  ...              NaN   \n",
       "1                      NaN               NaN  ...              NaN   \n",
       "\n",
       "  thumbnail_width                                              title  ups  \\\n",
       "0             NaN  Weekly Question Thread: Ask questions here Mar...   17   \n",
       "1             NaN               Snapshots: post pics! March 30, 2019    6   \n",
       "\n",
       "                                                 url  user_reports  \\\n",
       "0  https://www.reddit.com/r/dndnext/comments/b5bv...            []   \n",
       "1  https://www.reddit.com/r/dndnext/comments/b7cb...            []   \n",
       "\n",
       "   view_count  visited  whitelist_status  wls  \n",
       "0         NaN    False           all_ads    6  \n",
       "1         NaN    False           all_ads    6  \n",
       "\n",
       "[2 rows x 100 columns]"
      ]
     },
     "execution_count": 94,
     "metadata": {},
     "output_type": "execute_result"
    }
   ],
   "source": [
    "raw_dnd.head(2)"
   ]
  },
  {
   "cell_type": "code",
   "execution_count": 95,
   "metadata": {},
   "outputs": [
    {
     "data": {
      "text/html": [
       "<div>\n",
       "<style scoped>\n",
       "    .dataframe tbody tr th:only-of-type {\n",
       "        vertical-align: middle;\n",
       "    }\n",
       "\n",
       "    .dataframe tbody tr th {\n",
       "        vertical-align: top;\n",
       "    }\n",
       "\n",
       "    .dataframe thead th {\n",
       "        text-align: right;\n",
       "    }\n",
       "</style>\n",
       "<table border=\"1\" class=\"dataframe\">\n",
       "  <thead>\n",
       "    <tr style=\"text-align: right;\">\n",
       "      <th></th>\n",
       "      <th>approved_at_utc</th>\n",
       "      <th>approved_by</th>\n",
       "      <th>archived</th>\n",
       "      <th>author</th>\n",
       "      <th>author_cakeday</th>\n",
       "      <th>author_flair_background_color</th>\n",
       "      <th>author_flair_css_class</th>\n",
       "      <th>author_flair_richtext</th>\n",
       "      <th>author_flair_template_id</th>\n",
       "      <th>author_flair_text</th>\n",
       "      <th>...</th>\n",
       "      <th>thumbnail_height</th>\n",
       "      <th>thumbnail_width</th>\n",
       "      <th>title</th>\n",
       "      <th>ups</th>\n",
       "      <th>url</th>\n",
       "      <th>user_reports</th>\n",
       "      <th>view_count</th>\n",
       "      <th>visited</th>\n",
       "      <th>whitelist_status</th>\n",
       "      <th>wls</th>\n",
       "    </tr>\n",
       "  </thead>\n",
       "  <tbody>\n",
       "    <tr>\n",
       "      <th>0</th>\n",
       "      <td>NaN</td>\n",
       "      <td>NaN</td>\n",
       "      <td>False</td>\n",
       "      <td>AutoModerator</td>\n",
       "      <td>NaN</td>\n",
       "      <td>NaN</td>\n",
       "      <td>NaN</td>\n",
       "      <td>[]</td>\n",
       "      <td>NaN</td>\n",
       "      <td>LN internet golem</td>\n",
       "      <td>...</td>\n",
       "      <td>NaN</td>\n",
       "      <td>NaN</td>\n",
       "      <td>Quick Questions - March 27, 2019</td>\n",
       "      <td>7</td>\n",
       "      <td>https://www.reddit.com/r/Pathfinder_RPG/commen...</td>\n",
       "      <td>[]</td>\n",
       "      <td>NaN</td>\n",
       "      <td>False</td>\n",
       "      <td>all_ads</td>\n",
       "      <td>6</td>\n",
       "    </tr>\n",
       "    <tr>\n",
       "      <th>1</th>\n",
       "      <td>NaN</td>\n",
       "      <td>NaN</td>\n",
       "      <td>False</td>\n",
       "      <td>AutoModerator</td>\n",
       "      <td>NaN</td>\n",
       "      <td>NaN</td>\n",
       "      <td>NaN</td>\n",
       "      <td>[]</td>\n",
       "      <td>NaN</td>\n",
       "      <td>LN internet golem</td>\n",
       "      <td>...</td>\n",
       "      <td>NaN</td>\n",
       "      <td>NaN</td>\n",
       "      <td>Post Your Build - March 31, 2019</td>\n",
       "      <td>11</td>\n",
       "      <td>https://www.reddit.com/r/Pathfinder_RPG/commen...</td>\n",
       "      <td>[]</td>\n",
       "      <td>NaN</td>\n",
       "      <td>False</td>\n",
       "      <td>all_ads</td>\n",
       "      <td>6</td>\n",
       "    </tr>\n",
       "  </tbody>\n",
       "</table>\n",
       "<p>2 rows × 100 columns</p>\n",
       "</div>"
      ],
      "text/plain": [
       "   approved_at_utc  approved_by  archived         author author_cakeday  \\\n",
       "0              NaN          NaN     False  AutoModerator            NaN   \n",
       "1              NaN          NaN     False  AutoModerator            NaN   \n",
       "\n",
       "   author_flair_background_color  author_flair_css_class  \\\n",
       "0                            NaN                     NaN   \n",
       "1                            NaN                     NaN   \n",
       "\n",
       "  author_flair_richtext author_flair_template_id  author_flair_text  ...  \\\n",
       "0                    []                      NaN  LN internet golem  ...   \n",
       "1                    []                      NaN  LN internet golem  ...   \n",
       "\n",
       "  thumbnail_height thumbnail_width                             title ups  \\\n",
       "0              NaN             NaN  Quick Questions - March 27, 2019   7   \n",
       "1              NaN             NaN  Post Your Build - March 31, 2019  11   \n",
       "\n",
       "                                                 url  user_reports  \\\n",
       "0  https://www.reddit.com/r/Pathfinder_RPG/commen...            []   \n",
       "1  https://www.reddit.com/r/Pathfinder_RPG/commen...            []   \n",
       "\n",
       "   view_count  visited  whitelist_status  wls  \n",
       "0         NaN    False           all_ads    6  \n",
       "1         NaN    False           all_ads    6  \n",
       "\n",
       "[2 rows x 100 columns]"
      ]
     },
     "execution_count": 95,
     "metadata": {},
     "output_type": "execute_result"
    }
   ],
   "source": [
    "raw_path.head(2)"
   ]
  },
  {
   "cell_type": "code",
   "execution_count": 96,
   "metadata": {},
   "outputs": [
    {
     "data": {
      "text/plain": [
       "Index(['approved_at_utc', 'approved_by', 'archived', 'author',\n",
       "       'author_cakeday', 'author_flair_background_color',\n",
       "       'author_flair_css_class', 'author_flair_richtext',\n",
       "       'author_flair_template_id', 'author_flair_text',\n",
       "       'author_flair_text_color', 'author_flair_type', 'author_fullname',\n",
       "       'author_patreon_flair', 'banned_at_utc', 'banned_by', 'can_gild',\n",
       "       'can_mod_post', 'category', 'clicked', 'content_categories',\n",
       "       'contest_mode', 'created', 'created_utc', 'crosspost_parent',\n",
       "       'crosspost_parent_list', 'distinguished', 'domain', 'downs', 'edited',\n",
       "       'gilded', 'gildings', 'hidden', 'hide_score', 'id', 'is_crosspostable',\n",
       "       'is_meta', 'is_original_content', 'is_reddit_media_domain',\n",
       "       'is_robot_indexable', 'is_self', 'is_video', 'likes',\n",
       "       'link_flair_background_color', 'link_flair_css_class',\n",
       "       'link_flair_richtext', 'link_flair_template_id', 'link_flair_text',\n",
       "       'link_flair_text_color', 'link_flair_type', 'locked', 'media',\n",
       "       'media_embed', 'media_metadata', 'media_only', 'mod_note',\n",
       "       'mod_reason_by', 'mod_reason_title', 'mod_reports', 'name', 'no_follow',\n",
       "       'num_comments', 'num_crossposts', 'num_reports', 'over_18',\n",
       "       'parent_whitelist_status', 'permalink', 'pinned', 'post_hint',\n",
       "       'preview', 'pwls', 'quarantine', 'removal_reason', 'report_reasons',\n",
       "       'saved', 'score', 'secure_media', 'secure_media_embed', 'selftext',\n",
       "       'selftext_html', 'send_replies', 'spoiler', 'stickied', 'subreddit',\n",
       "       'subreddit_id', 'subreddit_name_prefixed', 'subreddit_subscribers',\n",
       "       'subreddit_type', 'suggested_sort', 'thumbnail', 'thumbnail_height',\n",
       "       'thumbnail_width', 'title', 'ups', 'url', 'user_reports', 'view_count',\n",
       "       'visited', 'whitelist_status', 'wls'],\n",
       "      dtype='object')"
      ]
     },
     "execution_count": 96,
     "metadata": {},
     "output_type": "execute_result"
    }
   ],
   "source": [
    "raw_dnd.columns"
   ]
  },
  {
   "cell_type": "markdown",
   "metadata": {},
   "source": [
    "<a id = \"clean\"></a>\n",
    "\n",
    "### Cleaning\n",
    "---\n",
    "\n",
    "As the raw data scraped from reddit is already mostly clean, the cleaning process here mostly involves dropping the irrelevant columns and making boolean columns out of the ones that contain categorical data.\n",
    "\n",
    "[Back to top](#top)"
   ]
  },
  {
   "cell_type": "code",
   "execution_count": 97,
   "metadata": {},
   "outputs": [],
   "source": [
    "# Isolating the potentially useful columns and dropping the rest.\n",
    "\n",
    "useful  = [\"domain\", \"media\", \"num_comments\", \"score\", \"selftext\", \"subreddit\", \"title\"]\n",
    "\n",
    "df_dnd = raw_dnd[useful]\n",
    "df_path = raw_path[useful]\n",
    "\n",
    "df_dnd_test = raw_dnd_test[useful]\n",
    "df_path_test = raw_path_test[useful]\n",
    "\n",
    "df_dnd_alt = raw_dnd_alt[useful]\n",
    "df_path_alt = raw_path_alt[useful]"
   ]
  },
  {
   "cell_type": "code",
   "execution_count": 98,
   "metadata": {},
   "outputs": [],
   "source": [
    "# Differentiating the test set from the training set\n",
    "# so they don't get jumbled up in the next step.\n",
    "\n",
    "df_dnd_test.loc[df_dnd_test.index, \"subreddit\"] = \"dndnext_test\"\n",
    "df_path_test.loc[df_path_test.index, \"subreddit\"] = \"pathfinder_test\""
   ]
  },
  {
   "cell_type": "code",
   "execution_count": 99,
   "metadata": {},
   "outputs": [],
   "source": [
    "# Putting all the data frames into one big dataframe \n",
    "# so they can all be cleaned at once. \n",
    "\n",
    "final = pd.concat([df_dnd, df_path, df_dnd_test, df_path_test])\n",
    "final = final.reset_index(drop = True)"
   ]
  },
  {
   "cell_type": "code",
   "execution_count": 100,
   "metadata": {},
   "outputs": [
    {
     "data": {
      "text/plain": [
       "(2985, 7)"
      ]
     },
     "execution_count": 100,
     "metadata": {},
     "output_type": "execute_result"
    }
   ],
   "source": [
    "final.shape"
   ]
  },
  {
   "cell_type": "code",
   "execution_count": 101,
   "metadata": {},
   "outputs": [
    {
     "data": {
      "text/plain": [
       "domain             0\n",
       "media           2940\n",
       "num_comments       0\n",
       "score              0\n",
       "selftext         216\n",
       "subreddit          0\n",
       "title              0\n",
       "dtype: int64"
      ]
     },
     "execution_count": 101,
     "metadata": {},
     "output_type": "execute_result"
    }
   ],
   "source": [
    "final.isna().sum()"
   ]
  },
  {
   "cell_type": "code",
   "execution_count": 102,
   "metadata": {},
   "outputs": [],
   "source": [
    "# Convert \"domain\" and \"media\" into the boolean \n",
    "# columns \"has_unique_domain\" and \"has_media\"\n",
    "\n",
    "final[\"media\"] = [int(i) for i in ~final[\"media\"].isna()]\n",
    "\n",
    "non_reddit_domain = []\n",
    "for i in range(len(final)):\n",
    "    if \"self.\" in list(final[\"domain\"])[i]:\n",
    "        non_reddit_domain.append(0)\n",
    "    else:\n",
    "        non_reddit_domain.append(1)\n",
    "\n",
    "final[\"domain\"] = non_reddit_domain\n",
    "\n",
    "final = final.rename(columns = {\"domain\": \"has_unique_domain\", \"media\": \"has_media\"})"
   ]
  },
  {
   "cell_type": "code",
   "execution_count": 103,
   "metadata": {},
   "outputs": [],
   "source": [
    "# Replace posts with no body with their title instead\n",
    "\n",
    "final.loc[final[\"selftext\"].isna(), \"selftext\"] = final.loc[final[\"selftext\"].isna(), \"title\"]"
   ]
  },
  {
   "cell_type": "code",
   "execution_count": 104,
   "metadata": {},
   "outputs": [
    {
     "data": {
      "text/plain": [
       "has_unique_domain    0\n",
       "has_media            0\n",
       "num_comments         0\n",
       "score                0\n",
       "selftext             0\n",
       "subreddit            0\n",
       "title                0\n",
       "dtype: int64"
      ]
     },
     "execution_count": 104,
     "metadata": {},
     "output_type": "execute_result"
    }
   ],
   "source": [
    "final.isna().sum()"
   ]
  },
  {
   "cell_type": "code",
   "execution_count": 105,
   "metadata": {},
   "outputs": [],
   "source": [
    "# Keeping the alternate dataframe separate. Cleaning process is the same, \n",
    "# except for creating the boolean columns as they were left unused anyways.\n",
    "\n",
    "df_alt = pd.concat([df_dnd_alt, df_path_alt]).reset_index(drop = True)\n",
    "df_alt.loc[df_alt[\"selftext\"].isna(), \"selftext\"] = df_alt.loc[df_alt[\"selftext\"].isna(), \"title\"]\n",
    "df_alt[\"subreddit\"] = df_alt[\"subreddit\"].map({\"DnDBehindTheScreen\": 1, \"Pathfinder\": 0})"
   ]
  },
  {
   "cell_type": "markdown",
   "metadata": {},
   "source": [
    "<a id = \"viz\"></a>\n",
    "\n",
    "### Visualizations\n",
    "\n",
    "---\n",
    "\n",
    "Keeping it brief here because it's hard to visualize correlations in text, and there aren't as many features to go off of in the first place.\n",
    "\n",
    "[Back to top](#top)"
   ]
  },
  {
   "cell_type": "code",
   "execution_count": 106,
   "metadata": {},
   "outputs": [
    {
     "data": {
      "image/png": "[encoded data removed]",
      "text/plain": [
       "<Figure size 576x576 with 1 Axes>"
      ]
     },
     "metadata": {
      "needs_background": "light"
     },
     "output_type": "display_data"
    }
   ],
   "source": [
    "plt.figure(figsize = (8,8))\n",
    "\n",
    "sns.boxplot(final[\"subreddit\"], final[\"num_comments\"])\n",
    "\n",
    "plt.title(\"Number of Comments by Subreddit\");"
   ]
  },
  {
   "cell_type": "markdown",
   "metadata": {},
   "source": [
    "> Distribution of the number of comments is very highly skewed"
   ]
  },
  {
   "cell_type": "code",
   "execution_count": 107,
   "metadata": {},
   "outputs": [
    {
     "data": {
      "image/png": "[encoded data removed]",
      "text/plain": [
       "<Figure size 576x576 with 1 Axes>"
      ]
     },
     "metadata": {
      "needs_background": "light"
     },
     "output_type": "display_data"
    }
   ],
   "source": [
    "plt.figure(figsize = (8,8))\n",
    "\n",
    "sns.boxplot(final[\"subreddit\"], final[\"score\"])\n",
    "\n",
    "plt.title(\"Average Thread Score by Subreddit\");"
   ]
  },
  {
   "cell_type": "markdown",
   "metadata": {},
   "source": [
    "> Score appears to be highly skewed as well"
   ]
  },
  {
   "cell_type": "code",
   "execution_count": 108,
   "metadata": {},
   "outputs": [
    {
     "data": {
      "image/png": "[encoded data removed]",
      "text/plain": [
       "<Figure size 576x576 with 1 Axes>"
      ]
     },
     "metadata": {
      "needs_background": "light"
     },
     "output_type": "display_data"
    }
   ],
   "source": [
    "plt.figure(figsize = (8,8))\n",
    "\n",
    "sns.boxplot(final[\"has_media\"], final[\"score\"])\n",
    "\n",
    "plt.title(\"Whether or not having media affects post score\");"
   ]
  },
  {
   "cell_type": "markdown",
   "metadata": {},
   "source": [
    "> The presence of media and score does not appear to be strongly correlated either."
   ]
  },
  {
   "cell_type": "code",
   "execution_count": 109,
   "metadata": {},
   "outputs": [
    {
     "data": {
      "image/png": "[encoded data removed]",
      "text/plain": [
       "<Figure size 576x576 with 1 Axes>"
      ]
     },
     "metadata": {
      "needs_background": "light"
     },
     "output_type": "display_data"
    }
   ],
   "source": [
    "plt.figure(figsize = (8,8))\n",
    "\n",
    "plt.scatter(final[\"num_comments\"], final[\"score\"], \n",
    "            s = 1,\n",
    "            alpha = 0.3\n",
    "           )\n",
    "\n",
    "plt.xlabel(\"comments\")\n",
    "plt.ylabel(\"score\")\n",
    "\n",
    "plt.title(\"Number of Comments vs. Score\");"
   ]
  },
  {
   "cell_type": "markdown",
   "metadata": {},
   "source": [
    "> Score and comments also vary widely, although most posts have few of either."
   ]
  },
  {
   "cell_type": "markdown",
   "metadata": {},
   "source": [
    "### Exporting\n",
    "---"
   ]
  },
  {
   "cell_type": "code",
   "execution_count": 110,
   "metadata": {},
   "outputs": [],
   "source": [
    "final.to_csv(\"../data/final.csv\", index = False)\n",
    "df_alt.to_csv(\"../data/alt.csv\", index = False)"
   ]
  },
  {
   "cell_type": "markdown",
   "metadata": {},
   "source": [
    "---\n",
    "[Back to top](#top)"
   ]
  }
 ],
 "metadata": {
  "kernelspec": {
   "display_name": "Python 3",
   "language": "python",
   "name": "python3"
  },
  "language_info": {
   "codemirror_mode": {
    "name": "ipython",
    "version": 3
   },
   "file_extension": ".py",
   "mimetype": "text/x-python",
   "name": "python",
   "nbconvert_exporter": "python",
   "pygments_lexer": "ipython3",
   "version": "3.6.8"
  }
 },
 "nbformat": 4,
 "nbformat_minor": 2
}
